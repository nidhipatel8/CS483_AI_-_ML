{
  "nbformat": 4,
  "nbformat_minor": 0,
  "metadata": {
    "colab": {
      "name": "Week6_Lab6.ipynb",
      "provenance": [],
      "collapsed_sections": [],
      "authorship_tag": "ABX9TyMJz01knUZDbONEQeN60Gn3",
      "include_colab_link": true
    },
    "kernelspec": {
      "name": "python3",
      "display_name": "Python 3"
    },
    "language_info": {
      "name": "python"
    }
  },
  "cells": [
    {
      "cell_type": "markdown",
      "metadata": {
        "id": "view-in-github",
        "colab_type": "text"
      },
      "source": [
        "<a href=\"https://colab.research.google.com/github/nidhipatel8/CS483_AI_-_ML/blob/main/Week6_Lab6.ipynb\" target=\"_parent\"><img src=\"https://colab.research.google.com/assets/colab-badge.svg\" alt=\"Open In Colab\"/></a>"
      ]
    },
    {
      "cell_type": "code",
      "execution_count": 1,
      "metadata": {
        "colab": {
          "base_uri": "https://localhost:8080/",
          "height": 858
        },
        "id": "hf0HEzkeaVpt",
        "outputId": "ebe6a797-abdc-4b5d-bdc2-ccfe0547b751"
      },
      "outputs": [
        {
          "output_type": "stream",
          "name": "stdout",
          "text": [
            "   Day  Visitors  Bounce Rate\n",
            "0    1        43           65\n",
            "1    2        34           67\n",
            "2    3        65           78\n",
            "3    4        56           65\n",
            "4    5        29           45\n",
            "   Day  Visitors  Bounce Rate\n",
            "1    2        34           67\n",
            "2    3        65           78\n",
            "3    4        56           65\n",
            "4    5        29           45\n",
            "5    6        76           52\n",
            "   Day  Visitors  Bounce Rate\n",
            "4    5        29           45\n",
            "5    6        76           52\n",
            "Day\n",
            "1    43\n",
            "2    34\n",
            "3    65\n",
            "4    56\n",
            "5    29\n",
            "6    76\n",
            "Name: Visitors, dtype: int64\n"
          ]
        },
        {
          "output_type": "display_data",
          "data": {
            "text/plain": [
              "<Figure size 432x288 with 1 Axes>"
            ],
            "image/png": "[encoded data removed]"
          },
          "metadata": {}
        },
        {
          "output_type": "stream",
          "name": "stdout",
          "text": [
            "     Visitors  Bounce Rate\n",
            "Day                       \n",
            "1          43           65\n",
            "2          34           67\n",
            "3          65           78\n",
            "4          56           65\n",
            "5          29           45\n",
            "6          76           52\n"
          ]
        }
      ],
      "source": [
        "#1. Pandas Basics – Ex1\n",
        "import pandas as pd\n",
        "import matplotlib.pyplot as plt\n",
        "from matplotlib import style\n",
        "web_stats = {'Day':[1,2,3,4,5,6],\n",
        "             'Visitors':[43,34,65,56,29,76],\n",
        "             'Bounce Rate':[65,67,78,65,45,52]}\n",
        "df = pd.DataFrame(web_stats)\n",
        "print(df.head())\n",
        "print(df.tail())\n",
        "print(df.tail(2))\n",
        "df.set_index('Day', inplace=True)\n",
        "style.use('fivethirtyeight')\n",
        "print(df['Visitors'])\n",
        "df['Visitors'].plot()\n",
        "plt.show()\n",
        "print(df[['Visitors','Bounce Rate']])"
      ]
    },
    {
      "cell_type": "code",
      "source": [
        "#2. Pandas I/O\n",
        "import pandas as pd\n",
        "# Download file from someone's github\n",
        "url = 'https://raw.githubusercontent.com/Pranjali-Sarap/Pandas/master/ZILL-Z77006_3B.csv'\n",
        "df = pd.read_csv(url, error_bad_lines=False)\n",
        "print(df.head())\n",
        "df.set_index('Date', inplace = True)\n",
        "# Save file to your google drive\n",
        "from google.colab import drive\n",
        "drive.mount('/content/drive')         \n",
        "data_path = \"/content/drive/My Drive/Colab Notebooks/\"\n",
        "with open(data_path + 'newcsv2.csv', 'w') as f:   \n",
        "  df.to_csv(f)  \n",
        "df = pd.read_csv(data_path +'newcsv2.csv')\n",
        "print('\\nnewcsv2.csv from my drive\\n', df.head())\n",
        "df = pd.read_csv(data_path +'newcsv2.csv', index_col=0) \n",
        "# index_col=0: disable index column\n",
        "print(df.head())\n",
        "df.columns = ['House_Prices']\n",
        "print(df.head())\n",
        "with open(data_path + 'newcsv3.csv', 'w') as f:   \n",
        "  df.to_csv(f)\n",
        "df = pd.read_csv(data_path + 'newcsv3.csv', names = ['Date','House_Price'], index_col=0)\n",
        "print('\\nnewcsv3.csv from my drive\\n', df.head())\n",
        "with open(data_path + 'newcsv4.csv', 'w') as f:   \n",
        "  df.to_csv(f, header=False)\n",
        "df = pd.read_csv(data_path + 'newcsv4.csv', names = ['Date','House_Price'], index_col=0)\n",
        "print('\\nnewcsv4.csv from my drive\\n', df.head())"
      ],
      "metadata": {
        "colab": {
          "base_uri": "https://localhost:8080/"
        },
        "id": "kfeiCisccJjm",
        "outputId": "4df2019c-7cb7-46a3-9ae0-9d8001ba8df8"
      },
      "execution_count": 11,
      "outputs": [
        {
          "output_type": "stream",
          "name": "stderr",
          "text": [
            "/usr/local/lib/python3.7/dist-packages/IPython/core/interactiveshell.py:2882: FutureWarning: The error_bad_lines argument has been deprecated and will be removed in a future version.\n",
            "\n",
            "\n",
            "  exec(code_obj, self.user_global_ns, self.user_ns)\n"
          ]
        },
        {
          "output_type": "stream",
          "name": "stdout",
          "text": [
            "         Date     Value\n",
            "0  2016-09-30  465600.0\n",
            "1  2016-08-31  470100.0\n",
            "2  2016-07-31  474500.0\n",
            "3  2016-06-30  480900.0\n",
            "4  2016-05-31  491400.0\n",
            "Mounted at /content/drive\n",
            "\n",
            "newcsv2.csv from my drive\n",
            "          Date     Value\n",
            "0  2016-09-30  465600.0\n",
            "1  2016-08-31  470100.0\n",
            "2  2016-07-31  474500.0\n",
            "3  2016-06-30  480900.0\n",
            "4  2016-05-31  491400.0\n",
            "               Value\n",
            "Date                \n",
            "2016-09-30  465600.0\n",
            "2016-08-31  470100.0\n",
            "2016-07-31  474500.0\n",
            "2016-06-30  480900.0\n",
            "2016-05-31  491400.0\n",
            "            House_Prices\n",
            "Date                    \n",
            "2016-09-30      465600.0\n",
            "2016-08-31      470100.0\n",
            "2016-07-31      474500.0\n",
            "2016-06-30      480900.0\n",
            "2016-05-31      491400.0\n",
            "\n",
            "newcsv3.csv from my drive\n",
            "              House_Price\n",
            "Date                    \n",
            "Date        House_Prices\n",
            "2016-09-30      465600.0\n",
            "2016-08-31      470100.0\n",
            "2016-07-31      474500.0\n",
            "2016-06-30      480900.0\n",
            "\n",
            "newcsv4.csv from my drive\n",
            "              House_Price\n",
            "Date                    \n",
            "Date        House_Prices\n",
            "2016-09-30      465600.0\n",
            "2016-08-31      470100.0\n",
            "2016-07-31      474500.0\n",
            "2016-06-30      480900.0\n"
          ]
        }
      ]
    },
    {
      "cell_type": "code",
      "source": [
        "#3. Concatenating and Appending dataframes\n",
        "import pandas as pd\n",
        "df1 = pd.DataFrame({'HPI':[80,85,88,85],\n",
        "                    'Int_rate':[2, 3, 2, 2],\n",
        "                    'US_GDP_Thousands':[50, 55, 65, 55]},\n",
        "                   index = [2001, 2002, 2003, 2004])\n",
        "df2 = pd.DataFrame({'HPI':[80,85,88,85],\n",
        "                    'Int_rate':[2, 3, 2, 2],\n",
        "                    'US_GDP_Thousands':[50, 55, 65, 55]},\n",
        "                   index = [2005, 2006, 2007, 2008])\n",
        "df3 = pd.DataFrame({'HPI':[80,85,88,85],\n",
        "                    'Int_rate':[2, 3, 2, 2],\n",
        "                    'Low_tier_HPI':[50, 52, 50, 53]},\n",
        "                   index = [2001, 2002, 2003, 2004])\n",
        "concat = pd.concat([df1,df2])\n",
        "print(concat)\n",
        "concat = pd.concat([df1,df2,df3])\n",
        "print(concat)\n",
        "df4 = df1.append(df2)\n",
        "print(df4)\n",
        "s = pd.Series([80,2,50], index=['HPI','Int_rate','US_GDP_Thousands'])\n",
        "df4 = df1.append(s, ignore_index=True)\n",
        "print(df4)"
      ],
      "metadata": {
        "colab": {
          "base_uri": "https://localhost:8080/"
        },
        "id": "HMq0rPSIc1cO",
        "outputId": "7a8fcccc-88a8-4086-f0bb-79d21542afff"
      },
      "execution_count": 12,
      "outputs": [
        {
          "output_type": "stream",
          "name": "stdout",
          "text": [
            "      HPI  Int_rate  US_GDP_Thousands\n",
            "2001   80         2                50\n",
            "2002   85         3                55\n",
            "2003   88         2                65\n",
            "2004   85         2                55\n",
            "2005   80         2                50\n",
            "2006   85         3                55\n",
            "2007   88         2                65\n",
            "2008   85         2                55\n",
            "      HPI  Int_rate  US_GDP_Thousands  Low_tier_HPI\n",
            "2001   80         2              50.0           NaN\n",
            "2002   85         3              55.0           NaN\n",
            "2003   88         2              65.0           NaN\n",
            "2004   85         2              55.0           NaN\n",
            "2005   80         2              50.0           NaN\n",
            "2006   85         3              55.0           NaN\n",
            "2007   88         2              65.0           NaN\n",
            "2008   85         2              55.0           NaN\n",
            "2001   80         2               NaN          50.0\n",
            "2002   85         3               NaN          52.0\n",
            "2003   88         2               NaN          50.0\n",
            "2004   85         2               NaN          53.0\n",
            "      HPI  Int_rate  US_GDP_Thousands\n",
            "2001   80         2                50\n",
            "2002   85         3                55\n",
            "2003   88         2                65\n",
            "2004   85         2                55\n",
            "2005   80         2                50\n",
            "2006   85         3                55\n",
            "2007   88         2                65\n",
            "2008   85         2                55\n",
            "   HPI  Int_rate  US_GDP_Thousands\n",
            "0   80         2                50\n",
            "1   85         3                55\n",
            "2   88         2                65\n",
            "3   85         2                55\n",
            "4   80         2                50\n"
          ]
        }
      ]
    },
    {
      "cell_type": "code",
      "source": [
        "#4. Joining and Merging Dataframes\n",
        "import pandas as pd\n",
        "df1 = pd.DataFrame({'HPI':[80,85,88,85],\n",
        "                    'Int_rate':[2, 3, 2, 2],\n",
        "                    'US_GDP_Thousands':[50, 55, 65, 55]},\n",
        "                   index = [2001, 2002, 2003, 2004])\n",
        "df2 = pd.DataFrame({'HPI':[80,85,88,85],\n",
        "                    'Int_rate':[2, 3, 2, 2],\n",
        "                    'US_GDP_Thousands':[50, 55, 65, 55]},\n",
        "                   index = [2005, 2006, 2007, 2008])\n",
        "df3 = pd.DataFrame({'HPI':[80,85,88,85],\n",
        "                    'Unemployment':[7, 8, 9, 6],\n",
        "                    'Low_tier_HPI':[50, 52, 50, 53]},\n",
        "                   index = [2001, 2002, 2003, 2004])\n",
        "print(pd.merge(df1,df3, on='HPI'))\n",
        "print(pd.merge(df1,df2, on=['HPI','Int_rate']))\n",
        "df4 = pd.merge(df1,df3, on='HPI')\n",
        "df4.set_index('HPI', inplace=True)\n",
        "print(df4)\n",
        "df1.set_index('HPI', inplace=True)\n",
        "df3.set_index('HPI', inplace=True)\n",
        "joined = df1.join(df3)\n",
        "print(joined)\n",
        "# let's consider joining and merging on slightly differing indexes\n",
        "df1 = pd.DataFrame({\n",
        "                    'Int_rate':[2, 3, 2, 2],\n",
        "                    'US_GDP_Thousands':[50, 55, 65, 55],\n",
        "                    'Year':[2001, 2002, 2003, 2004]\n",
        "                    })\n",
        "df3 = pd.DataFrame({\n",
        "                    'Unemployment':[7, 8, 9, 6],\n",
        "                    'Low_tier_HPI':[50, 52, 50, 53],\n",
        "                    'Year':[2001, 2003, 2004, 2005]})\n",
        "merged = pd.merge(df1,df3, on='Year')\n",
        "print(merged)\n",
        "merged = pd.merge(df1,df3, on='Year')\n",
        "merged.set_index('Year', inplace=True)\n",
        "print(merged)\n",
        "merged = pd.merge(df1,df3, on='Year', how='left')\n",
        "merged.set_index('Year', inplace=True)\n",
        "print(merged)\n",
        "merged = pd.merge(df1,df3, on='Year', how='right')\n",
        "merged.set_index('Year', inplace=True)\n",
        "print(merged)\n",
        "merged = pd.merge(df1,df3, on='Year', how='outer')\n",
        "merged.set_index('Year', inplace=True)\n",
        "print(merged)\n",
        "merged = pd.merge(df1,df3, on='Year', how='inner')\n",
        "merged.set_index('Year', inplace=True)\n",
        "print(merged)\n",
        "df1.set_index('Year', inplace=True)\n",
        "df3.set_index('Year', inplace=True)\n",
        "joined = df1.join(df3, how=\"outer\")\n",
        "print(joined)"
      ],
      "metadata": {
        "colab": {
          "base_uri": "https://localhost:8080/"
        },
        "id": "wHAFdqOzdVN5",
        "outputId": "22c50331-8522-44d8-da1b-527d40f96939"
      },
      "execution_count": 13,
      "outputs": [
        {
          "output_type": "stream",
          "name": "stdout",
          "text": [
            "   HPI  Int_rate  US_GDP_Thousands  Unemployment  Low_tier_HPI\n",
            "0   80         2                50             7            50\n",
            "1   85         3                55             8            52\n",
            "2   85         3                55             6            53\n",
            "3   85         2                55             8            52\n",
            "4   85         2                55             6            53\n",
            "5   88         2                65             9            50\n",
            "   HPI  Int_rate  US_GDP_Thousands_x  US_GDP_Thousands_y\n",
            "0   80         2                  50                  50\n",
            "1   85         3                  55                  55\n",
            "2   88         2                  65                  65\n",
            "3   85         2                  55                  55\n",
            "     Int_rate  US_GDP_Thousands  Unemployment  Low_tier_HPI\n",
            "HPI                                                        \n",
            "80          2                50             7            50\n",
            "85          3                55             8            52\n",
            "85          3                55             6            53\n",
            "85          2                55             8            52\n",
            "85          2                55             6            53\n",
            "88          2                65             9            50\n",
            "     Int_rate  US_GDP_Thousands  Unemployment  Low_tier_HPI\n",
            "HPI                                                        \n",
            "80          2                50             7            50\n",
            "85          3                55             8            52\n",
            "85          3                55             6            53\n",
            "85          2                55             8            52\n",
            "85          2                55             6            53\n",
            "88          2                65             9            50\n",
            "   Int_rate  US_GDP_Thousands  Year  Unemployment  Low_tier_HPI\n",
            "0         2                50  2001             7            50\n",
            "1         2                65  2003             8            52\n",
            "2         2                55  2004             9            50\n",
            "      Int_rate  US_GDP_Thousands  Unemployment  Low_tier_HPI\n",
            "Year                                                        \n",
            "2001         2                50             7            50\n",
            "2003         2                65             8            52\n",
            "2004         2                55             9            50\n",
            "      Int_rate  US_GDP_Thousands  Unemployment  Low_tier_HPI\n",
            "Year                                                        \n",
            "2001         2                50           7.0          50.0\n",
            "2002         3                55           NaN           NaN\n",
            "2003         2                65           8.0          52.0\n",
            "2004         2                55           9.0          50.0\n",
            "      Int_rate  US_GDP_Thousands  Unemployment  Low_tier_HPI\n",
            "Year                                                        \n",
            "2001       2.0              50.0             7            50\n",
            "2003       2.0              65.0             8            52\n",
            "2004       2.0              55.0             9            50\n",
            "2005       NaN               NaN             6            53\n",
            "      Int_rate  US_GDP_Thousands  Unemployment  Low_tier_HPI\n",
            "Year                                                        \n",
            "2001       2.0              50.0           7.0          50.0\n",
            "2002       3.0              55.0           NaN           NaN\n",
            "2003       2.0              65.0           8.0          52.0\n",
            "2004       2.0              55.0           9.0          50.0\n",
            "2005       NaN               NaN           6.0          53.0\n",
            "      Int_rate  US_GDP_Thousands  Unemployment  Low_tier_HPI\n",
            "Year                                                        \n",
            "2001         2                50             7            50\n",
            "2003         2                65             8            52\n",
            "2004         2                55             9            50\n",
            "      Int_rate  US_GDP_Thousands  Unemployment  Low_tier_HPI\n",
            "Year                                                        \n",
            "2001       2.0              50.0           7.0          50.0\n",
            "2002       3.0              55.0           NaN           NaN\n",
            "2003       2.0              65.0           8.0          52.0\n",
            "2004       2.0              55.0           9.0          50.0\n",
            "2005       NaN               NaN           6.0          53.0\n"
          ]
        }
      ]
    }
  ]
}