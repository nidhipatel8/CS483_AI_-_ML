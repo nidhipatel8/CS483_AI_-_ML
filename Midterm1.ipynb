{
  "nbformat": 4,
  "nbformat_minor": 0,
  "metadata": {
    "colab": {
      "name": "Midterm1.ipynb",
      "provenance": [],
      "authorship_tag": "ABX9TyNzRW0lxJc+BPmcEmvn2ZcX",
      "include_colab_link": true
    },
    "kernelspec": {
      "name": "python3",
      "display_name": "Python 3"
    },
    "language_info": {
      "name": "python"
    }
  },
  "cells": [
    {
      "cell_type": "markdown",
      "metadata": {
        "id": "view-in-github",
        "colab_type": "text"
      },
      "source": [
        "<a href=\"https://colab.research.google.com/github/nidhipatel8/CS483_AI_-_ML/blob/main/Midterm1.ipynb\" target=\"_parent\"><img src=\"https://colab.research.google.com/assets/colab-badge.svg\" alt=\"Open In Colab\"/></a>"
      ]
    },
    {
      "cell_type": "code",
      "execution_count": null,
      "metadata": {
        "id": "0v9ATlkQ3apk"
      },
      "outputs": [],
      "source": [
        "#QUESTION 1\n",
        "\n",
        "#COST FUNCTION\n",
        "\n",
        "def cost(theta,X,y):\n",
        "    \n",
        "    m = len(y)\n",
        "    # Calculating Cost\n",
        "    c = (1/2*m) * np.sum(np.square((X.dot(theta))-y))  \n",
        "    return c\n",
        "def gradient_descent(X,y,theta,alpha,iterations):\n",
        "    \n",
        "    #Getting number of observations.\n",
        "    m = len(y)\n",
        "    \n",
        "    # Initializing cost and theta's arrays with zeroes.\n",
        "    thetas = np.zeros((iterations,2))\n",
        "    costs = np.zeros(iterations)\n",
        "    \n",
        "    # Calculating theta for every iteration.\n",
        "    for i in range(iterations):\n",
        "            theta = theta - (1/m)*alpha*(X.T.dot((X.dot(theta))-y))\n",
        "            thetas[i,:] = theta.T\n",
        "            costs[i] = cost(theta,X,y)\n",
        "            \n",
        "    return theta,thetas,costs\n",
        "# Learning Rate\n",
        "alpha = 0.01\n",
        "# Number of iterations\n",
        "iterations = 3000\n",
        "# Initializing a random value to give algorithm a base value.\n",
        "theta = np.random.randn(2,1)\n",
        "# Adding a biasing constant of value 1 to the features array.\n",
        "X_bias = np.c_[np.ones((len(X),1)),X]\n",
        "# Running Gradient Descent\n",
        "theta,thetas,costs = gradient_descent(X_bias,y,theta,alpha,iterations)\n",
        "# printing final values.\n",
        "print('Final Theta 0 value: {:0.3f}\\nFinal Theta 1 value: {:0.3f}'.format(theta[0][0],theta[1][0]))\n",
        "print('Final Cost/MSE(L2 Loss) Value: {:0.3f}'.format(costs[-1]))\n",
        "\n",
        "Output:\n",
        "Final Theta 0 value: 9.448\n",
        "Final Theta 1 value: 2.015\n",
        "Final Cost/MSE(L2 Loss) Value: 411.001"
      ]
    }
  ]
}