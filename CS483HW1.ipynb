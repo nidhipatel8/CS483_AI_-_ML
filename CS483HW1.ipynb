{
  "nbformat": 4,
  "nbformat_minor": 0,
  "metadata": {
    "colab": {
      "name": "CS483HW1.ipynb",
      "provenance": [],
      "collapsed_sections": [],
      "authorship_tag": "ABX9TyPkfgB2CpIWSEzLVdWD99jh",
      "include_colab_link": true
    },
    "kernelspec": {
      "name": "python3",
      "display_name": "Python 3"
    },
    "language_info": {
      "name": "python"
    }
  },
  "cells": [
    {
      "cell_type": "markdown",
      "metadata": {
        "id": "view-in-github",
        "colab_type": "text"
      },
      "source": [
        "<a href=\"https://colab.research.google.com/github/nidhipatel8/CS483_AI_-_ML/blob/main/CS483HW1.ipynb\" target=\"_parent\"><img src=\"https://colab.research.google.com/assets/colab-badge.svg\" alt=\"Open In Colab\"/></a>"
      ]
    },
    {
      "cell_type": "code",
      "execution_count": 1,
      "metadata": {
        "colab": {
          "base_uri": "https://localhost:8080/"
        },
        "id": "xvgmtH-LTlxU",
        "outputId": "4b519a48-6be1-4b21-d821-97e5b80cec40"
      },
      "outputs": [
        {
          "output_type": "stream",
          "name": "stdout",
          "text": [
            "[129.01956696 142.76293569]\n"
          ]
        }
      ],
      "source": [
        "#Q1 \n",
        "\n",
        "#Patients id\n",
        "id = [i for i in range(1,17)]\n",
        "id\n",
        "#Patients Age\n",
        "Age = [60, 61, 74, 57, 63, 68, 66, 77, 63, 54, 63, 76, 60, 61, 65, 79]\n",
        "len(Age)\n",
        "#Patients Weights\n",
        "Weights = [58, 90, 96, 72, 62, 79, 69, 96, 96, 54, 67, 99, 74, 73, 85, 80]\n",
        "len(Weights)\n",
        "#Systolic Blood Pressure\n",
        "SBP = [117, 120, 145, 129, 132, 130, 110, 163, 136, 115, 118, 132, 111, 112, 0, 0]\n",
        "len(SBP)\n",
        "#importing LinearRegression\n",
        "from sklearn.linear_model import LinearRegression\n",
        "#importing pandas module\n",
        "import pandas as pd\n",
        "\n",
        "data = {\"Age(Years)\":Age, \"Weight(Kg)\":Weights, \"SBP(mm Hg)\":SBP}\n",
        "#creating data frame\n",
        "data = pd.DataFrame(data = data)\n",
        "data\n",
        "\n",
        "#Taking x and y values\n",
        "x = data[[\"Age(Years)\", \"Weight(Kg)\"]]\n",
        "y = data[\"SBP(mm Hg)\"]\n",
        "\n",
        "#Taking train and test data\n",
        "x_train = x[:14]\n",
        "x_test = x[14:]\n",
        "\n",
        "y_train = y[:14]\n",
        "y_test = y[14:]\n",
        "\n",
        "#Applying LinearRegression\n",
        "model = LinearRegression()\n",
        "model.fit(x_train, y_train)\n",
        "\n",
        "#predicting remaining values\n",
        "pred = model.predict(x_test)\n",
        "\n",
        "#printing predicted values\n",
        "print(pred)\n"
      ]
    },
    {
      "cell_type": "code",
      "source": [
        "#Q2\n",
        "\n",
        "import matplotlib.pyplot as plt\n",
        "\n",
        "X_Cords =range(-50,50)\n",
        "\n",
        "Y_Cords= [X*X for X in X_Cords]\n",
        "\n",
        "plt.plot(X_Cords,Y_Cords)\n",
        "\n",
        "plt.show()"
      ],
      "metadata": {
        "colab": {
          "base_uri": "https://localhost:8080/",
          "height": 265
        },
        "id": "aqMA-ulgUIFT",
        "outputId": "0591d676-b420-429e-bdbc-c241c2bbc6cf"
      },
      "execution_count": 3,
      "outputs": [
        {
          "output_type": "display_data",
          "data": {
            "text/plain": [
              "<Figure size 432x288 with 1 Axes>"
            ],
            "image/png": "[encoded data removed]"
          },
          "metadata": {
            "needs_background": "light"
          }
        }
      ]
    },
    {
      "cell_type": "code",
      "source": [
        "#Q3\n",
        "\n",
        "import copy\n",
        "def genmatrix():\n",
        "#creates matrix of two rows and columns\n",
        "col,row = 2, 2;\n",
        "A1 = [[0 for c in range(col)] for r in range(row)]\n",
        "A1[0][0]=1\n",
        "A1[0][1]=-3\n",
        "A1[1][0]=2\n",
        "A1[1][1]=-4\n",
        "  \n",
        "b1=[-1 ,1]\n",
        "  \n",
        "A2 = [[0 for c in range(col)] for r in range(row)]\n",
        "A2[0][0]=5\n",
        "A2[0][1]=-2\n",
        "A2[1][0]=5\n",
        "A2[1][1]=-4\n",
        "  \n",
        "b2=[2 ,-3]\n",
        "return A1,A2,b1,b2\n",
        "\n",
        "def det2(A):\n",
        "#calculates determinant by (a11*a22)-(a12*a21)\n",
        "return (A[0][0]*A[1][1])- (A[0][1]*A[1][0])\n",
        "\n",
        "\n",
        "def slove2(A,b):\n",
        "#implements cramers rule\n",
        "detA=det2(A)\n",
        "x_mat = copy.deepcopy(A)\n",
        "#implements cramers rule by changing first column with b\n",
        "x_mat[0][0]=b[0]\n",
        "x_mat[1][0]=b[1]\n",
        "detX=det2(x_mat)\n",
        "y_mat = copy.deepcopy(A)\n",
        "#implements cramers rule by changing second column with b\n",
        "y_mat[0][1]=b[0]\n",
        "y_mat[1][1]=b[1]\n",
        "detY=det2(y_mat)\n",
        "return detX/detA , detY/detA\n",
        "\n",
        "A1,A2,b1,b2=genmatrix()\n",
        "print(\"the value of X and Y for ist equation is :\",slove2(A1,b1))\n",
        "print(\"the value of X and Y for 2nd equation is :\",slove2(A2,b2))\n"
      ],
      "metadata": {
        "colab": {
          "base_uri": "https://localhost:8080/",
          "height": 133
        },
        "id": "AOMyPjAajDNn",
        "outputId": "02380c94-56c6-43be-d597-a19a59b16e0c"
      },
      "execution_count": 1,
      "outputs": [
        {
          "output_type": "error",
          "ename": "IndentationError",
          "evalue": "ignored",
          "traceback": [
            "\u001b[0;36m  File \u001b[0;32m\"<ipython-input-1-45999ee1774b>\"\u001b[0;36m, line \u001b[0;32m6\u001b[0m\n\u001b[0;31m    col,row = 2, 2;\u001b[0m\n\u001b[0m      ^\u001b[0m\n\u001b[0;31mIndentationError\u001b[0m\u001b[0;31m:\u001b[0m expected an indented block\n"
          ]
        }
      ]
    }
  ]
}