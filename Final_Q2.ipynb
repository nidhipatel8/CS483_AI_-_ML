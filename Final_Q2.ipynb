{
  "nbformat": 4,
  "nbformat_minor": 0,
  "metadata": {
    "colab": {
      "name": "Final_Q2.ipynb",
      "provenance": [],
      "collapsed_sections": [],
      "authorship_tag": "ABX9TyNSxPPrhCI5GqHivu9JbmJ+",
      "include_colab_link": true
    },
    "kernelspec": {
      "name": "python3",
      "display_name": "Python 3"
    },
    "language_info": {
      "name": "python"
    }
  },
  "cells": [
    {
      "cell_type": "markdown",
      "metadata": {
        "id": "view-in-github",
        "colab_type": "text"
      },
      "source": [
        "<a href=\"https://colab.research.google.com/github/nidhipatel8/CS483_AI_-_ML/blob/main/Final_Q2.ipynb\" target=\"_parent\"><img src=\"https://colab.research.google.com/assets/colab-badge.svg\" alt=\"Open In Colab\"/></a>"
      ]
    },
    {
      "cell_type": "code",
      "execution_count": 11,
      "metadata": {
        "colab": {
          "base_uri": "https://localhost:8080/"
        },
        "id": "23-JEdp24CzQ",
        "outputId": "ea487d10-8c80-46e6-af1f-b19c2aa1d3d1"
      },
      "outputs": [
        {
          "output_type": "stream",
          "name": "stdout",
          "text": [
            "Parent1: 1101111001\n",
            "Parent2: 1101111011\n",
            "Crossover Point: 10\n",
            "Offspring1: 1101111001\n",
            "Offspring2: 1101111011\n"
          ]
        }
      ],
      "source": [
        "import random\n",
        "def Crossover(parent1,parent2,point):\n",
        "    p1,p2 = list(parent1),list(parent2) #convert str to list\n",
        "    for i in range(point,len(p1)):\n",
        "        p1[i],p2[i] = p2[i],p1[i]       #swap the genetic information\n",
        "    p1,p2 = ''.join(p1),''.join(p2)     #Convert list to str\n",
        "    return p1,p2\n",
        "parent1 = '1101111001'        #parents' Chromosomes\n",
        "parent2 = '1101111011'\n",
        "print('Parent1:',parent1)\n",
        "print('Parent2:',parent2)\n",
        "point = random.randint(1,len(parent1))  #Crossover point\n",
        "print('Crossover Point:',point)\n",
        "offspring1,offspring2 = Crossover(parent1,parent2,point)\n",
        "print('Offspring1:',offspring1)         #Offspring Chromosomes\n",
        "print('Offspring2:',offspring2)"
      ]
    },
    {
      "cell_type": "code",
      "source": [
        "import random\n",
        "def Crossover(parent1,parent2,point):\n",
        "    p1,p2 = list(parent1),list(parent2) #convert str to list\n",
        "    for i in range(point,len(p1)):\n",
        "        p1[i],p2[i] = p2[i],p1[i]       #swap the genetic information\n",
        "    p1,p2 = ''.join(p1),''.join(p2)     #Convert list to str\n",
        "    return p1,p2\n",
        "parent1 = '1100001011'        #parents' Chromosomes\n",
        "parent2 = '1100001001'\n",
        "print('Parent1:',parent1)\n",
        "print('Parent2:',parent2)\n",
        "point = random.randint(1,len(parent1))  #Crossover point\n",
        "print('Crossover Point:',point)\n",
        "offspring1,offspring2 = Crossover(parent1,parent2,point)\n",
        "print('Offspring1:',offspring1)         #Offspring Chromosomes\n",
        "print('Offspring2:',offspring2)"
      ],
      "metadata": {
        "colab": {
          "base_uri": "https://localhost:8080/"
        },
        "id": "lDY3VIVy-oVU",
        "outputId": "369b73f8-dd18-42b8-ff54-0a03a2bffbc2"
      },
      "execution_count": 12,
      "outputs": [
        {
          "output_type": "stream",
          "name": "stdout",
          "text": [
            "Parent1: 1100001011\n",
            "Parent2: 1100001001\n",
            "Crossover Point: 7\n",
            "Offspring1: 1100001001\n",
            "Offspring2: 1100001011\n"
          ]
        }
      ]
    },
    {
      "cell_type": "code",
      "source": [
        "import random\n",
        "def Crossover(parent1,parent2,point):\n",
        "    p1,p2 = list(parent1),list(parent2) #convert str to list\n",
        "    for i in range(point,len(p1)):\n",
        "        p1[i],p2[i] = p2[i],p1[i]       #swap the genetic information\n",
        "    p1,p2 = ''.join(p1),''.join(p2)     #Convert list to str\n",
        "    return p1,p2\n",
        "parent1 = '1100001011'        #parents' Chromosomes\n",
        "parent2 = '1100001011'\n",
        "print('Parent1:',parent1)\n",
        "print('Parent2:',parent2)\n",
        "point = random.randint(1,len(parent1))  #Crossover point\n",
        "print('Crossover Point:',point)\n",
        "offspring1,offspring2 = Crossover(parent1,parent2,point)\n",
        "print('Offspring1:',offspring1)         #Offspring Chromosomes\n",
        "print('Offspring2:',offspring2)"
      ],
      "metadata": {
        "colab": {
          "base_uri": "https://localhost:8080/"
        },
        "id": "CUR5CdW9_L91",
        "outputId": "91e13ce5-5e0d-4d87-c9a0-289a52e07597"
      },
      "execution_count": 13,
      "outputs": [
        {
          "output_type": "stream",
          "name": "stdout",
          "text": [
            "Parent1: 1100001011\n",
            "Parent2: 1100001011\n",
            "Crossover Point: 9\n",
            "Offspring1: 1100001011\n",
            "Offspring2: 1100001011\n"
          ]
        }
      ]
    },
    {
      "cell_type": "code",
      "source": [
        "import random\n",
        "def Crossover(parent1,parent2,point):\n",
        "    p1,p2 = list(parent1),list(parent2) #convert str to list\n",
        "    for i in range(point,len(p1)):\n",
        "        p1[i],p2[i] = p2[i],p1[i]       #swap the genetic information\n",
        "    p1,p2 = ''.join(p1),''.join(p2)     #Convert list to str\n",
        "    return p1,p2\n",
        "parent1 = '1110010000'        #parents' Chromosomes\n",
        "parent2 = '1110010000'\n",
        "print('Parent1:',parent1)\n",
        "print('Parent2:',parent2)\n",
        "point = random.randint(1,len(parent1))  #Crossover point\n",
        "print('Crossover Point:',point)\n",
        "offspring1,offspring2 = Crossover(parent1,parent2,point)\n",
        "print('Offspring1:',offspring1)         #Offspring Chromosomes\n",
        "print('Offspring2:',offspring2)"
      ],
      "metadata": {
        "colab": {
          "base_uri": "https://localhost:8080/"
        },
        "id": "wdt6Su5k_SeR",
        "outputId": "c9d254bf-85a7-4682-c569-79a1156c93ab"
      },
      "execution_count": 14,
      "outputs": [
        {
          "output_type": "stream",
          "name": "stdout",
          "text": [
            "Parent1: 1110010000\n",
            "Parent2: 1110010000\n",
            "Crossover Point: 3\n",
            "Offspring1: 1110010000\n",
            "Offspring2: 1110010000\n"
          ]
        }
      ]
    },
    {
      "cell_type": "code",
      "source": [
        "import random\n",
        "def Crossover(parent1,parent2,point):\n",
        "    p1,p2 = list(parent1),list(parent2) #convert str to list\n",
        "    for i in range(point,len(p1)):\n",
        "        p1[i],p2[i] = p2[i],p1[i]       #swap the genetic information\n",
        "    p1,p2 = ''.join(p1),''.join(p2)     #Convert list to str\n",
        "    return p1,p2\n",
        "parent1 = '1101111001'        #parents' Chromosomes\n",
        "parent2 = '1110010000'\n",
        "print('Parent1:',parent1)\n",
        "print('Parent2:',parent2)\n",
        "point = random.randint(1,len(parent1))  #Crossover point\n",
        "print('Crossover Point:',point)\n",
        "offspring1,offspring2 = Crossover(parent1,parent2,point)\n",
        "print('Offspring1:',offspring1)         #Offspring Chromosomes\n",
        "print('Offspring2:',offspring2)"
      ],
      "metadata": {
        "colab": {
          "base_uri": "https://localhost:8080/"
        },
        "id": "0P5OcfLB_UDi",
        "outputId": "ca86a6c9-b8c3-4b3f-d060-d84c4483db31"
      },
      "execution_count": 15,
      "outputs": [
        {
          "output_type": "stream",
          "name": "stdout",
          "text": [
            "Parent1: 1101111001\n",
            "Parent2: 1110010000\n",
            "Crossover Point: 4\n",
            "Offspring1: 1101010000\n",
            "Offspring2: 1110111001\n"
          ]
        }
      ]
    },
    {
      "cell_type": "code",
      "source": [
        "import random\n",
        "def Crossover(parent1,parent2,point):\n",
        "    p1,p2 = list(parent1),list(parent2) #convert str to list\n",
        "    for i in range(point,len(p1)):\n",
        "        p1[i],p2[i] = p2[i],p1[i]       #swap the genetic information\n",
        "    p1,p2 = ''.join(p1),''.join(p2)     #Convert list to str\n",
        "    return p1,p2\n",
        "parent1 = '1110010000'        #parents' Chromosomes\n",
        "parent2 = '1101111001'\n",
        "print('Parent1:',parent1)\n",
        "print('Parent2:',parent2)\n",
        "point = random.randint(1,len(parent1))  #Crossover point\n",
        "print('Crossover Point:',point)\n",
        "offspring1,offspring2 = Crossover(parent1,parent2,point)\n",
        "print('Offspring1:',offspring1)         #Offspring Chromosomes\n",
        "print('Offspring2:',offspring2)"
      ],
      "metadata": {
        "colab": {
          "base_uri": "https://localhost:8080/"
        },
        "id": "GN9FS2r7_Uw4",
        "outputId": "cdc0fa07-5758-4a9f-a259-7a7bdd4f718e"
      },
      "execution_count": 16,
      "outputs": [
        {
          "output_type": "stream",
          "name": "stdout",
          "text": [
            "Parent1: 1110010000\n",
            "Parent2: 1101111001\n",
            "Crossover Point: 1\n",
            "Offspring1: 1101111001\n",
            "Offspring2: 1110010000\n"
          ]
        }
      ]
    },
    {
      "cell_type": "code",
      "source": [
        "import random\n",
        "def Crossover(parent1,parent2,point):\n",
        "    p1,p2 = list(parent1),list(parent2) #convert str to list\n",
        "    for i in range(point,len(p1)):\n",
        "        p1[i],p2[i] = p2[i],p1[i]       #swap the genetic information\n",
        "    p1,p2 = ''.join(p1),''.join(p2)     #Convert list to str\n",
        "    return p1,p2\n",
        "parent1 = '1110100001'        #parents' Chromosomes\n",
        "parent2 = '1110100001'\n",
        "print('Parent1:',parent1)\n",
        "print('Parent2:',parent2)\n",
        "point = random.randint(1,len(parent1))  #Crossover point\n",
        "print('Crossover Point:',point)\n",
        "offspring1,offspring2 = Crossover(parent1,parent2,point)\n",
        "print('Offspring1:',offspring1)         #Offspring Chromosomes\n",
        "print('Offspring2:',offspring2)"
      ],
      "metadata": {
        "colab": {
          "base_uri": "https://localhost:8080/"
        },
        "id": "TUL0Dpzs_Vpl",
        "outputId": "62bbbd31-2dce-4cd1-a13d-c7d9e2776f2b"
      },
      "execution_count": 17,
      "outputs": [
        {
          "output_type": "stream",
          "name": "stdout",
          "text": [
            "Parent1: 1110100001\n",
            "Parent2: 1110100001\n",
            "Crossover Point: 1\n",
            "Offspring1: 1110100001\n",
            "Offspring2: 1110100001\n"
          ]
        }
      ]
    },
    {
      "cell_type": "code",
      "source": [
        "import random\n",
        "def Crossover(parent1,parent2,point):\n",
        "    p1,p2 = list(parent1),list(parent2) #convert str to list\n",
        "    for i in range(point,len(p1)):\n",
        "        p1[i],p2[i] = p2[i],p1[i]       #swap the genetic information\n",
        "    p1,p2 = ''.join(p1),''.join(p2)     #Convert list to str\n",
        "    return p1,p2\n",
        "parent1 = '0011010000'        #parents' Chromosomes\n",
        "parent2 = '0011010000'\n",
        "print('Parent1:',parent1)\n",
        "print('Parent2:',parent2)\n",
        "point = random.randint(1,len(parent1))  #Crossover point\n",
        "print('Crossover Point:',point)\n",
        "offspring1,offspring2 = Crossover(parent1,parent2,point)\n",
        "print('Offspring1:',offspring1)         #Offspring Chromosomes\n",
        "print('Offspring2:',offspring2)"
      ],
      "metadata": {
        "colab": {
          "base_uri": "https://localhost:8080/"
        },
        "id": "pg5yaM06_WTl",
        "outputId": "fbdee802-b45e-4096-9186-e45109239932"
      },
      "execution_count": 18,
      "outputs": [
        {
          "output_type": "stream",
          "name": "stdout",
          "text": [
            "Parent1: 0011010000\n",
            "Parent2: 0011010000\n",
            "Crossover Point: 5\n",
            "Offspring1: 0011010000\n",
            "Offspring2: 0011010000\n"
          ]
        }
      ]
    },
    {
      "cell_type": "code",
      "source": [
        "import random\n",
        "def Crossover(parent1,parent2,point):\n",
        "    p1,p2 = list(parent1),list(parent2) #convert str to list\n",
        "    for i in range(point,len(p1)):\n",
        "        p1[i],p2[i] = p2[i],p1[i]       #swap the genetic information\n",
        "    p1,p2 = ''.join(p1),''.join(p2)     #Convert list to str\n",
        "    return p1,p2\n",
        "parent1 = '1101111001'        #parents' Chromosomes\n",
        "parent2 = '1101111000'\n",
        "print('Parent1:',parent1)\n",
        "print('Parent2:',parent2)\n",
        "point = random.randint(1,len(parent1))  #Crossover point\n",
        "print('Crossover Point:',point)\n",
        "offspring1,offspring2 = Crossover(parent1,parent2,point)\n",
        "print('Offspring1:',offspring1)         #Offspring Chromosomes\n",
        "print('Offspring2:',offspring2)"
      ],
      "metadata": {
        "colab": {
          "base_uri": "https://localhost:8080/"
        },
        "id": "IGLtCJ5n_W9V",
        "outputId": "fdf5222f-d5d8-4148-c6a6-9cddb51017dd"
      },
      "execution_count": 19,
      "outputs": [
        {
          "output_type": "stream",
          "name": "stdout",
          "text": [
            "Parent1: 1101111001\n",
            "Parent2: 1101111000\n",
            "Crossover Point: 2\n",
            "Offspring1: 1101111000\n",
            "Offspring2: 1101111001\n"
          ]
        }
      ]
    },
    {
      "cell_type": "code",
      "source": [
        "import random\n",
        "def Crossover(parent1,parent2,point):\n",
        "    p1,p2 = list(parent1),list(parent2) #convert str to list\n",
        "    for i in range(point,len(p1)):\n",
        "        p1[i],p2[i] = p2[i],p1[i]       #swap the genetic information\n",
        "    p1,p2 = ''.join(p1),''.join(p2)     #Convert list to str\n",
        "    return p1,p2\n",
        "parent1 = '0100110010'        #parents' Chromosomes\n",
        "parent2 = '0100110011'\n",
        "print('Parent1:',parent1)\n",
        "print('Parent2:',parent2)\n",
        "point = random.randint(1,len(parent1))  #Crossover point\n",
        "print('Crossover Point:',point)\n",
        "offspring1,offspring2 = Crossover(parent1,parent2,point)\n",
        "print('Offspring1:',offspring1)         #Offspring Chromosomes\n",
        "print('Offspring2:',offspring2)"
      ],
      "metadata": {
        "colab": {
          "base_uri": "https://localhost:8080/"
        },
        "id": "u9UVhq4v_Xp8",
        "outputId": "854bd482-efdd-4897-8d42-45095a67a3ac"
      },
      "execution_count": 20,
      "outputs": [
        {
          "output_type": "stream",
          "name": "stdout",
          "text": [
            "Parent1: 0100110010\n",
            "Parent2: 0100110011\n",
            "Crossover Point: 5\n",
            "Offspring1: 0100110011\n",
            "Offspring2: 0100110010\n"
          ]
        }
      ]
    },
    {
      "cell_type": "code",
      "source": [
        "import random\n",
        "def Crossover(parent1,parent2,point):\n",
        "    p1,p2 = list(parent1),list(parent2) #convert str to list\n",
        "    for i in range(point,len(p1)):\n",
        "        p1[i],p2[i] = p2[i],p1[i]       #swap the genetic information\n",
        "    p1,p2 = ''.join(p1),''.join(p2)     #Convert list to str\n",
        "    return p1,p2\n",
        "parent1 = '1001011010'        #parents' Chromosomes\n",
        "parent2 = '1101111001'\n",
        "print('Parent1:',parent1)\n",
        "print('Parent2:',parent2)\n",
        "point = random.randint(1,len(parent1))  #Crossover point\n",
        "print('Crossover Point:',point)\n",
        "offspring1,offspring2 = Crossover(parent1,parent2,point)\n",
        "print('Offspring1:',offspring1)         #Offspring Chromosomes\n",
        "print('Offspring2:',offspring2)"
      ],
      "metadata": {
        "colab": {
          "base_uri": "https://localhost:8080/"
        },
        "id": "d0bn0v4Q_YJI",
        "outputId": "38a76dfe-2f8b-4a09-b216-f2d9d921624a"
      },
      "execution_count": 21,
      "outputs": [
        {
          "output_type": "stream",
          "name": "stdout",
          "text": [
            "Parent1: 1001011010\n",
            "Parent2: 1101111001\n",
            "Crossover Point: 5\n",
            "Offspring1: 1001011001\n",
            "Offspring2: 1101111010\n"
          ]
        }
      ]
    },
    {
      "cell_type": "code",
      "source": [
        "import random\n",
        "def Crossover(parent1,parent2,point):\n",
        "    p1,p2 = list(parent1),list(parent2) #convert str to list\n",
        "    for i in range(point,len(p1)):\n",
        "        p1[i],p2[i] = p2[i],p1[i]       #swap the genetic information\n",
        "    p1,p2 = ''.join(p1),''.join(p2)     #Convert list to str\n",
        "    return p1,p2\n",
        "parent1 = '1101111001'        #parents' Chromosomes\n",
        "parent2 = '1001011010'\n",
        "print('Parent1:',parent1)\n",
        "print('Parent2:',parent2)\n",
        "point = random.randint(1,len(parent1))  #Crossover point\n",
        "print('Crossover Point:',point)\n",
        "offspring1,offspring2 = Crossover(parent1,parent2,point)\n",
        "print('Offspring1:',offspring1)         #Offspring Chromosomes\n",
        "print('Offspring2:',offspring2)"
      ],
      "metadata": {
        "colab": {
          "base_uri": "https://localhost:8080/"
        },
        "id": "TsZ5_sxaAZm-",
        "outputId": "91070c0f-dcfb-402b-a74e-5cf3c6987293"
      },
      "execution_count": 22,
      "outputs": [
        {
          "output_type": "stream",
          "name": "stdout",
          "text": [
            "Parent1: 1101111001\n",
            "Parent2: 1001011010\n",
            "Crossover Point: 6\n",
            "Offspring1: 1101111010\n",
            "Offspring2: 1001011001\n"
          ]
        }
      ]
    },
    {
      "cell_type": "code",
      "source": [
        "import random\n",
        "def Crossover(parent1,parent2,point):\n",
        "    p1,p2 = list(parent1),list(parent2) #convert str to list\n",
        "    for i in range(point,len(p1)):\n",
        "        p1[i],p2[i] = p2[i],p1[i]       #swap the genetic information\n",
        "    p1,p2 = ''.join(p1),''.join(p2)     #Convert list to str\n",
        "    return p1,p2\n",
        "parent1 = '0111011111'        #parents' Chromosomes\n",
        "parent2 = '0111010101'\n",
        "print('Parent1:',parent1)\n",
        "print('Parent2:',parent2)\n",
        "point = random.randint(1,len(parent1))  #Crossover point\n",
        "print('Crossover Point:',point)\n",
        "offspring1,offspring2 = Crossover(parent1,parent2,point)\n",
        "print('Offspring1:',offspring1)         #Offspring Chromosomes\n",
        "print('Offspring2:',offspring2)"
      ],
      "metadata": {
        "colab": {
          "base_uri": "https://localhost:8080/"
        },
        "id": "yBgv4QIAAaup",
        "outputId": "91faec46-b6a9-485a-fc55-dc7ce4dfb122"
      },
      "execution_count": 23,
      "outputs": [
        {
          "output_type": "stream",
          "name": "stdout",
          "text": [
            "Parent1: 0111011111\n",
            "Parent2: 0111010101\n",
            "Crossover Point: 8\n",
            "Offspring1: 0111011101\n",
            "Offspring2: 0111010111\n"
          ]
        }
      ]
    },
    {
      "cell_type": "code",
      "source": [
        "import random\n",
        "def Crossover(parent1,parent2,point):\n",
        "    p1,p2 = list(parent1),list(parent2) #convert str to list\n",
        "    for i in range(point,len(p1)):\n",
        "        p1[i],p2[i] = p2[i],p1[i]       #swap the genetic information\n",
        "    p1,p2 = ''.join(p1),''.join(p2)     #Convert list to str\n",
        "    return p1,p2\n",
        "parent1 = '1001110101'        #parents' Chromosomes\n",
        "parent2 = '1001111111'\n",
        "print('Parent1:',parent1)\n",
        "print('Parent2:',parent2)\n",
        "point = random.randint(1,len(parent1))  #Crossover point\n",
        "print('Crossover Point:',point)\n",
        "offspring1,offspring2 = Crossover(parent1,parent2,point)\n",
        "print('Offspring1:',offspring1)         #Offspring Chromosomes\n",
        "print('Offspring2:',offspring2)"
      ],
      "metadata": {
        "colab": {
          "base_uri": "https://localhost:8080/"
        },
        "id": "WehUW9UXAbXL",
        "outputId": "63e294bc-2f48-4c06-cd07-0a77a142af5c"
      },
      "execution_count": 24,
      "outputs": [
        {
          "output_type": "stream",
          "name": "stdout",
          "text": [
            "Parent1: 1001110101\n",
            "Parent2: 1001111111\n",
            "Crossover Point: 6\n",
            "Offspring1: 1001111111\n",
            "Offspring2: 1001110101\n"
          ]
        }
      ]
    },
    {
      "cell_type": "code",
      "source": [
        "import random\n",
        "def Crossover(parent1,parent2,point):\n",
        "    p1,p2 = list(parent1),list(parent2) #convert str to list\n",
        "    for i in range(point,len(p1)):\n",
        "        p1[i],p2[i] = p2[i],p1[i]       #swap the genetic information\n",
        "    p1,p2 = ''.join(p1),''.join(p2)     #Convert list to str\n",
        "    return p1,p2\n",
        "parent1 = '1101111001'        #parents' Chromosomes\n",
        "parent2 = '1101111001'\n",
        "print('Parent1:',parent1)\n",
        "print('Parent2:',parent2)\n",
        "point = random.randint(1,len(parent1))  #Crossover point\n",
        "print('Crossover Point:',point)\n",
        "offspring1,offspring2 = Crossover(parent1,parent2,point)\n",
        "print('Offspring1:',offspring1)         #Offspring Chromosomes\n",
        "print('Offspring2:',offspring2)"
      ],
      "metadata": {
        "colab": {
          "base_uri": "https://localhost:8080/"
        },
        "id": "CpBLTM5GAb1D",
        "outputId": "3b0c9d81-098e-4cbf-d583-72de68f90e96"
      },
      "execution_count": 25,
      "outputs": [
        {
          "output_type": "stream",
          "name": "stdout",
          "text": [
            "Parent1: 1101111001\n",
            "Parent2: 1101111001\n",
            "Crossover Point: 8\n",
            "Offspring1: 1101111001\n",
            "Offspring2: 1101111001\n"
          ]
        }
      ]
    },
    {
      "cell_type": "code",
      "source": [
        "import random\n",
        "def Crossover(parent1,parent2,point):\n",
        "    p1,p2 = list(parent1),list(parent2) #convert str to list\n",
        "    for i in range(point,len(p1)):\n",
        "        p1[i],p2[i] = p2[i],p1[i]       #swap the genetic information\n",
        "    p1,p2 = ''.join(p1),''.join(p2)     #Convert list to str\n",
        "    return p1,p2\n",
        "parent1 = '1110100001'        #parents' Chromosomes\n",
        "parent2 = '1110100001'\n",
        "print('Parent1:',parent1)\n",
        "print('Parent2:',parent2)\n",
        "point = random.randint(1,len(parent1))  #Crossover point\n",
        "print('Crossover Point:',point)\n",
        "offspring1,offspring2 = Crossover(parent1,parent2,point)\n",
        "print('Offspring1:',offspring1)         #Offspring Chromosomes\n",
        "print('Offspring2:',offspring2)"
      ],
      "metadata": {
        "colab": {
          "base_uri": "https://localhost:8080/"
        },
        "id": "hdMs_TxDAcQK",
        "outputId": "936c6dba-447d-434d-947f-c6037c22fd26"
      },
      "execution_count": 26,
      "outputs": [
        {
          "output_type": "stream",
          "name": "stdout",
          "text": [
            "Parent1: 1110100001\n",
            "Parent2: 1110100001\n",
            "Crossover Point: 9\n",
            "Offspring1: 1110100001\n",
            "Offspring2: 1110100001\n"
          ]
        }
      ]
    },
    {
      "cell_type": "code",
      "source": [
        "import random\n",
        "def Crossover(parent1,parent2,point):\n",
        "    p1,p2 = list(parent1),list(parent2) #convert str to list\n",
        "    for i in range(point,len(p1)):\n",
        "        p1[i],p2[i] = p2[i],p1[i]       #swap the genetic information\n",
        "    p1,p2 = ''.join(p1),''.join(p2)     #Convert list to str\n",
        "    return p1,p2\n",
        "parent1 = ['1101111001','1100001011','1100001011',\n",
        "           '1110010000','1101111001','1110010000',\n",
        "           '1110100001','0011010000','1101111001',\n",
        "           '0100110010','1001011010','1101111001',\n",
        "           '0111011111','1001110101','1101111001',\n",
        "           '1110100001']       \n",
        "parent2 = ['1101111011','1100001001','1100001011',\n",
        "           '1110010000','1110010000','1101111001',\n",
        "           '1110100001','0011010000','1101111000',\n",
        "           '0100110011','1101111001','1001011010',\n",
        "           '0111010101','1001111111','1101111001',\n",
        "           '1110100001']\n",
        "print('Parent1:',parent1)\n",
        "print('Parent2:',parent2)\n",
        "point = random.randint(1,len(parent1))  #Crossover point\n",
        "print('Crossover Point:',point)\n",
        "offspring1,offspring2 = Crossover(parent1,parent2,point)\n",
        "print('Offspring1:',offspring1)         #Offspring Chromosomes\n",
        "print('Offspring2:',offspring2)"
      ],
      "metadata": {
        "colab": {
          "base_uri": "https://localhost:8080/"
        },
        "id": "pbm5Y0BK8VEd",
        "outputId": "7c03ada4-069e-4d81-b774-2ec0b29ea6c4"
      },
      "execution_count": 7,
      "outputs": [
        {
          "output_type": "stream",
          "name": "stdout",
          "text": [
            "Parent1: ['1101111001', '1100001011', '1100001011', '1110010000', '1101111001', '1110010000', '1110100001', '0011010000', '1101111001', '0100110010', '1001011010', '1101111001', '0111011111', '1001110101', '1101111001', '1110100001']\n",
            "Parent2: ['1101111011', '1100001001', '1100001011', '1110010000', '1110010000', '1101111001', '1110100001', '0011010000', '1101111000', '0100110011', '1101111001', '1001011010', '0111010101', '1001111111', '1101111001', '1110100001']\n",
            "Crossover Point: 12\n",
            "Offspring1: 1101111001110000101111000010111110010000110111100111100100001110100001001101000011011110010100110010100101101011011110010111010101100111111111011110011110100001\n",
            "Offspring2: 1101111011110000100111000010111110010000111001000011011110011110100001001101000011011110000100110011110111100110010110100111011111100111010111011110011110100001\n"
          ]
        }
      ]
    }
  ]
}