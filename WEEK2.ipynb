{
  "nbformat": 4,
  "nbformat_minor": 0,
  "metadata": {
    "colab": {
      "name": "WEEK2.ipynb",
      "provenance": [],
      "collapsed_sections": [],
      "authorship_tag": "ABX9TyMLkb27X9DNtv/8mheqGpoB",
      "include_colab_link": true
    },
    "kernelspec": {
      "name": "python3",
      "display_name": "Python 3"
    },
    "language_info": {
      "name": "python"
    }
  },
  "cells": [
    {
      "cell_type": "markdown",
      "metadata": {
        "id": "view-in-github",
        "colab_type": "text"
      },
      "source": [
        "<a href=\"https://colab.research.google.com/github/nidhipatel8/CS483_AI_-_ML/blob/main/WEEK2.ipynb\" target=\"_parent\"><img src=\"https://colab.research.google.com/assets/colab-badge.svg\" alt=\"Open In Colab\"/></a>"
      ]
    },
    {
      "cell_type": "code",
      "execution_count": 27,
      "metadata": {
        "colab": {
          "base_uri": "https://localhost:8080/"
        },
        "id": "jLsFlJ3YGZzy",
        "outputId": "746edc1f-01c0-4b56-bbe2-f324a6ce0bba"
      },
      "outputs": [
        {
          "output_type": "stream",
          "name": "stdout",
          "text": [
            "[8 6 8 9 1 6 4 2 2 2 8 9 2 6 7 5 7 9 7 1 5 0 2 4 4]\n"
          ]
        },
        {
          "output_type": "execute_result",
          "data": {
            "text/plain": [
              "array([-2,  2,  1])"
            ]
          },
          "metadata": {},
          "execution_count": 27
        }
      ],
      "source": [
        "#Q1 Commonly used NumPy functions \n",
        "import numpy as np \n",
        " \n",
        "a = np.random.randint(0,10,(5,5)) \n",
        "a.max()  # max in all elem in matrix \n",
        "a.min()  \n",
        "a.max(axis=0)  # axis=0 is for each col \n",
        "a.max(axis=1)  # axis=1 is for each row \n",
        " \n",
        "print(a.flatten()) # flatten matrix \n",
        "a.argmax()  # flatten matrix first and return max value's index  \n",
        "a.argmin() \n",
        " \n",
        "a.argmax(axis=0) # max value's index in each column \n",
        "a.argmax(axis=1) # max value's index in each row \n",
        " \n",
        "a.mean()  # mean from all elem matrix \n",
        "a.sum()  # sum of all elem in matrix \n",
        " \n",
        "a.mean(axis=0) # mean in each column \n",
        "a.mean(axis=1) # mean in each row \n",
        "a.std()    # standard deviation = sqrt(variance) \n",
        "a.std(axis=0)  # standard deviation in each col \n",
        "a.var()   # variance  \n",
        "a.var(axis=0)   # variance in each col  \n",
        " \n",
        "a.cumsum()  # array of cumulative sum  \n",
        "   # e.g.  \n",
        " \n",
        "# a.cumsum() -> array([1,(1+2),(1+2+3),10,15,21]) \n",
        "       \n",
        " \n",
        "a.cumprod()  # array of cumulative product \n",
        "   # e.g.  \n",
        "   \n",
        "# a.cumprod() -> array([1,(1*2),(1*2*3),10,15,21]) \n",
        "      \n",
        " \n",
        "np.sort(a)  # sort matrix row by row \n",
        "np.argsort(a)  # return index matrix after sorting row by row \n",
        " \n",
        "A = np.array([1,2,3]) \n",
        "B = np.array([4,5,6]) \n",
        "np.average(A, weights=B) # B is matrix \n",
        "    # A=[1,2,3]; B=[4,5,6] \n",
        "# np.average(A, weight=B) => 1*(4/(4+5+6)) + 2*(5/(4+5+6)) + 3*(6/(4+5+6)) \n",
        " \n",
        "mult = A*B \n",
        " \n",
        "np.average(A)  # =np.mean(A) \n",
        " \n",
        "a=np.array([[1,2],[3,4]]) \n",
        "b=np.array([[11,12],[13,14]]) \n",
        "np.vdot(a,b)  # e.g. \n",
        "    \n",
        "# np.vdot(a, b)  # 1*11 + 2*12 + 3*13 + 4*14 \n",
        " \n",
        "a=np.array([1,2,3,6,7]) \n",
        "np.median(a) \n",
        "# median value for 1,2,3,6,7 -> median=3 \n",
        "# median value for 1,2,6,7   -> (2+6)/2 = 4.0 \n",
        " \n",
        "a=np.array([1,0,0,2,3]) \n",
        "a.nonzero()  \n",
        "# a=[1,0,0,2,3]; a.nonzero()=[0, 3, 4] return nonzero elem index \n",
        " \n",
        "np.inner(A,B)   # = A*B.T \n",
        "np.dot(A,B)  # = A*B \n",
        " \n",
        "np.outer(A,B)   # = A.T*B \n",
        "A=np.array([[1,2],[3,4]]) \n",
        "np.transpose(A)   \n",
        " \n",
        "A.trace()  # sum of all elements in quare-matrix A's diagonal \n",
        "A=np.array([3,1,3,4]) \n",
        "np.diff(A)  # if A=[3,1,3,4], then np.diff(A) = [(1-3),(3-1),(4-1)] "
      ]
    },
    {
      "cell_type": "code",
      "source": [
        "#Q2 Histograms function\n",
        "\n",
        "import numpy as np \n",
        "import matplotlib.pyplot as plt \n",
        " \n",
        "np.random.seed(4500) \n",
        "# Create the same group number of random number for each time running  \n",
        " \n",
        "mean=150 \n",
        "sd=10 \n",
        "N=1000 \n",
        " \n",
        "heights=np.random.normal(mean, sd, N) \n",
        " #np.random.normal -> create random number based on mean/st/N \n",
        " \n",
        "density=False  # Switch between regular histogram and pdf \n",
        "hist,bin_edges=np.histogram(heights, bins=50, density=density) \n",
        "   # np.histogram -> put elem in heights array into 50 bins \n",
        " \n",
        "cum_hist=np.cumsum(hist) # add all elem in hist together \n",
        " \n",
        "# Normalized histogram \n",
        "norm_hist = hist/N \n",
        " \n",
        "# Cumulative Normalized histogram \n",
        "norm_cum_hist = np.cumsum(norm_hist) \n",
        " \n",
        "bin_width=bin_edges[2]-bin_edges[1] \n",
        "print('Bin Width',bin_width) \n",
        " \n",
        "plt.figure()  # create a new figure \n",
        "# plt.plot(bin_edges[:-1], hist, color='green', label='heights histogram') \n",
        " # bin_edges[:-1] from 1st elem to last 2nd elem \n",
        "plt.plot(bin_edges[:-1], cum_hist, color='green', label='heights histogram') \n",
        " \n",
        "# plt.plot(bin_edges[:-1], norm_hist, color='green', label='heights histogram') \n",
        " \n",
        "# plt.plot(bin_edges[:-1], norm_cum_hist, color='green', label='heights \n",
        "#histogram') \n",
        "plt.xlabel('Heights') \n",
        "plt.ylabel('Frequency') \n",
        "plt.grid() \n",
        "plt.legend() \n",
        "plt.title('Histogram/Density Function of Heights of college students') \n",
        "plt.show "
      ],
      "metadata": {
        "colab": {
          "base_uri": "https://localhost:8080/",
          "height": 331
        },
        "id": "5zNDSwruHP-O",
        "outputId": "2a93f85a-02db-463e-ac96-31e17002c90e"
      },
      "execution_count": null,
      "outputs": [
        {
          "output_type": "stream",
          "name": "stdout",
          "text": [
            "Bin Width 1.35319655248108\n"
          ]
        },
        {
          "output_type": "execute_result",
          "data": {
            "text/plain": [
              "<function matplotlib.pyplot.show>"
            ]
          },
          "metadata": {},
          "execution_count": 7
        },
        {
          "output_type": "display_data",
          "data": {
            "text/plain": [
              "<Figure size 432x288 with 1 Axes>"
            ],
            "image/png": "[encoded data removed]"
          },
          "metadata": {
            "needs_background": "light"
          }
        }
      ]
    },
    {
      "cell_type": "code",
      "source": [
        "#Q3 Reshape function\n",
        "\n",
        "import numpy as np \n",
        "a=np.arange(9) \n",
        "b=a.reshape(3,3) \n",
        " \n",
        "b=a.reshape(3,3) # Error ! no enough element in a \n",
        "b.flatten()  # single line array \n",
        "b.flatten(order='F')  \n",
        "# flatten by Fortran language seq. By default, it is C language seq. \n",
        " \n",
        "a=np.arange(12).reshape(4,3) \n",
        " \n",
        "np.transpose(a)  \n",
        " \n",
        "b=np.arange(8).reshape(2,4) \n",
        "c=b.reshape(2,2,2) \n",
        " \n",
        "np.rollaxis(c,2,1)  # change row & col  \n",
        " \n",
        "np.swapaxes(c,1,2)"
      ],
      "metadata": {
        "colab": {
          "base_uri": "https://localhost:8080/"
        },
        "id": "aW49fVVWJ1qp",
        "outputId": "3fd5309c-c973-4e12-b615-5e6503c1bec4"
      },
      "execution_count": null,
      "outputs": [
        {
          "output_type": "execute_result",
          "data": {
            "text/plain": [
              "array([[[0, 2],\n",
              "        [1, 3]],\n",
              "\n",
              "       [[4, 6],\n",
              "        [5, 7]]])"
            ]
          },
          "metadata": {},
          "execution_count": 12
        }
      ]
    },
    {
      "cell_type": "code",
      "source": [
        "#Q4 Numpy Arithematic operation\n",
        "\n",
        "a=np.arange(9).reshape(3,3) \n",
        "b=np.array([10, 10, 10]) \n",
        "\n",
        "np.add(a,b) \n",
        "np.subtract(a,b) \n",
        "np.multiply(a,b) \n",
        "np.divide(a,b)"
      ],
      "metadata": {
        "colab": {
          "base_uri": "https://localhost:8080/"
        },
        "id": "VVvAf5i8KWdY",
        "outputId": "b6336407-43fb-4459-8f7b-bfc081e72736"
      },
      "execution_count": null,
      "outputs": [
        {
          "output_type": "execute_result",
          "data": {
            "text/plain": [
              "array([[0. , 0.1, 0.2],\n",
              "       [0.3, 0.4, 0.5],\n",
              "       [0.6, 0.7, 0.8]])"
            ]
          },
          "metadata": {},
          "execution_count": 25
        }
      ]
    },
    {
      "cell_type": "code",
      "source": [
        "#Q5 Slicing\n",
        "\n",
        "a=np.arange(20) \n",
        "a[4:]   # from ind4 to the end \n",
        "a[:4]   # from 1st to ind4 \n",
        "a[slice(2,9,2)]  # from 2 to 8 with 2-step "
      ],
      "metadata": {
        "colab": {
          "base_uri": "https://localhost:8080/"
        },
        "id": "e6ihob7yM789",
        "outputId": "d4b176f3-9429-4fdf-f5a9-fcb0966a9762"
      },
      "execution_count": null,
      "outputs": [
        {
          "output_type": "execute_result",
          "data": {
            "text/plain": [
              "array([4, 5, 6, 7, 8])"
            ]
          },
          "metadata": {},
          "execution_count": 34
        }
      ]
    },
    {
      "cell_type": "code",
      "source": [
        "#Q6 Iterating over array \n",
        "\n",
        "a=np.arange(0, 45, 5) \n",
        "a=a.reshape(3,3) \n",
        "for x in np.nditer(a): # n-dimension iterator \n",
        "  print(x) "
      ],
      "metadata": {
        "colab": {
          "base_uri": "https://localhost:8080/"
        },
        "id": "MMuUimebNCYE",
        "outputId": "55333cb6-8cd3-4198-bbd2-bd0c473e69d5"
      },
      "execution_count": null,
      "outputs": [
        {
          "output_type": "stream",
          "name": "stdout",
          "text": [
            "0\n",
            "5\n",
            "10\n",
            "15\n",
            "20\n",
            "25\n",
            "30\n",
            "35\n",
            "40\n"
          ]
        }
      ]
    },
    {
      "cell_type": "code",
      "source": [
        "#Q7 Iteration order(c-style & f-style) \n",
        "\n",
        "for x in np.nditer(a, order=\"C\"): # In c seq iteration \n",
        "  print(x) \n",
        " \n",
        "for x in np.nditer(a, order=\"F\"): # In Fortran seq iteration \n",
        "  print(x) "
      ],
      "metadata": {
        "colab": {
          "base_uri": "https://localhost:8080/"
        },
        "id": "3WUNfNG4Q6zY",
        "outputId": "5fda1292-306b-4cde-a6ab-4f81c9aa85b8"
      },
      "execution_count": null,
      "outputs": [
        {
          "output_type": "stream",
          "name": "stdout",
          "text": [
            "0\n",
            "5\n",
            "10\n",
            "15\n",
            "20\n",
            "25\n",
            "30\n",
            "35\n",
            "40\n",
            "0\n",
            "15\n",
            "30\n",
            "5\n",
            "20\n",
            "35\n",
            "10\n",
            "25\n",
            "40\n"
          ]
        }
      ]
    },
    {
      "cell_type": "code",
      "source": [
        "#Q8 Joining arrays \n",
        "\n",
        "a=np.array([[1,2],[3,4]]) \n",
        "b=np.array([[5,6],[7,8]])  \n",
        "np.concatenate((a,b))    # Join by col \n",
        "np.concatenate((a,b), axis=1)  # Join by row "
      ],
      "metadata": {
        "colab": {
          "base_uri": "https://localhost:8080/"
        },
        "id": "Z6zBvDqmREFg",
        "outputId": "24be7c15-f2d4-45d7-f6ce-1b8246d7e311"
      },
      "execution_count": null,
      "outputs": [
        {
          "output_type": "execute_result",
          "data": {
            "text/plain": [
              "array([[1, 2, 5, 6],\n",
              "       [3, 4, 7, 8]])"
            ]
          },
          "metadata": {},
          "execution_count": 38
        }
      ]
    },
    {
      "cell_type": "code",
      "source": [
        "#Q9 Splitting array \n",
        "\n",
        "a=np.arange(9) \n",
        "np.split(a,3)  # create 3 arrays \n",
        "np.split(a,[4,7]) # seperate from ind4 and ind7 into 3 pieces "
      ],
      "metadata": {
        "colab": {
          "base_uri": "https://localhost:8080/"
        },
        "id": "vEVijg2WRUMb",
        "outputId": "9ef3f75c-17c1-4b27-b288-66ac20826676"
      },
      "execution_count": null,
      "outputs": [
        {
          "output_type": "execute_result",
          "data": {
            "text/plain": [
              "[array([0, 1, 2, 3]), array([4, 5, 6]), array([7, 8])]"
            ]
          },
          "metadata": {},
          "execution_count": 39
        }
      ]
    },
    {
      "cell_type": "code",
      "source": [
        "#Q10 Resizing arrays\n",
        " \n",
        "a=np.array([[1,2,3],[4,5,6]]) \n",
        "a.shape \n",
        "b=np.resize(a, (3,2)) # change to 3x2 matrix \n",
        "b=np.resize(a, (3,3)) # change to 3x3 matrix by repeating 1st row "
      ],
      "metadata": {
        "id": "xV6knIOzRcwM"
      },
      "execution_count": null,
      "outputs": []
    },
    {
      "cell_type": "code",
      "source": [
        "#Q11 Numpy practise example \n",
        "import numpy as np \n",
        "import matplotlib.pyplot as plt \n",
        " \n",
        "x=np.arange(0,3*np.pi,0.1) \n",
        "y=np.sin(x) \n",
        "plt.plot(x,y) \n",
        "plt.show() \n",
        " \n",
        "# Create a 6x6 2-dim array, and let 1 and 0 be placed alternatively across the \n",
        "#diagonals \n",
        " \n",
        "z=np.zeros((6,6),dtype=int)\n",
        "z[1::2, ::2] = 1 # 1st:last:step \n",
        " \n",
        "z[::2, 1::2] = 1 # 1st:last:step \n",
        " \n",
        "# Find the total number and locations of missiong values in the array \n",
        "z=np.random.rand(10,10) \n",
        "z[np.random.randint(10, size=5), np.random.randint(10, size=5)]=np.nan \n",
        "# np.random.randint(10, size=5) return array with 5 elem from 1 to 10 \n",
        "# z[[],[]] for elem index \n",
        "np.isnan(z).sum() \n",
        "np.argwhere(np.isnan(z)) \n",
        " \n",
        "inds=np.where(np.isnan(z)) # return ind array \n",
        " \n",
        "z[inds]=0 "
      ],
      "metadata": {
        "colab": {
          "base_uri": "https://localhost:8080/",
          "height": 265
        },
        "id": "0Gl-ArDnRra3",
        "outputId": "c2248048-ca27-4df8-c2ea-990b9fd8ffd9"
      },
      "execution_count": null,
      "outputs": [
        {
          "output_type": "display_data",
          "data": {
            "text/plain": [
              "<Figure size 432x288 with 1 Axes>"
            ],
            "image/png": "[encoded data removed]"
          },
          "metadata": {
            "needs_background": "light"
          }
        }
      ]
    },
    {
      "cell_type": "code",
      "source": [
        "#Q12 Linear regression by scikit-learn library \n",
        " \n",
        "import numpy as np \n",
        "from sklearn.linear_model import LinearRegression \n",
        " \n",
        "x = np.array([1,3,5,7,9,11,13,15,17,19]).reshape((-1, 1)) \n",
        "# reshape((-1, 1)) : '-1' means unknown number of row; '1' means one column \n",
        "y = np.array([3,3,7,7,11,11,15,15,19,19]) \n",
        " \n",
        "model = LinearRegression().fit(x, y) \n",
        " \n",
        "print('intercept:', model.intercept_) \n",
        "print('slope:', model.coef_) \n",
        "y_pred = model.predict(x) \n",
        "print('predicted response:', y_pred, sep='\\n') \n",
        "new_y = model.predict([[20]]) \n",
        "print('predicted response if x=20:', new_y , sep='\\n') "
      ],
      "metadata": {
        "colab": {
          "base_uri": "https://localhost:8080/"
        },
        "id": "TtN-1JYwSoxh",
        "outputId": "93f28ec7-648c-425f-e31b-3734ab620f29"
      },
      "execution_count": null,
      "outputs": [
        {
          "output_type": "stream",
          "name": "stdout",
          "text": [
            "intercept: 1.303030303030301\n",
            "slope: [0.96969697]\n",
            "predicted response:\n",
            "[ 2.27272727  4.21212121  6.15151515  8.09090909 10.03030303 11.96969697\n",
            " 13.90909091 15.84848485 17.78787879 19.72727273]\n",
            "predicted response if x=20:\n",
            "[20.6969697]\n"
          ]
        }
      ]
    },
    {
      "cell_type": "code",
      "source": [
        ""
      ],
      "metadata": {
        "id": "wJwIR4TVJEm4"
      },
      "execution_count": null,
      "outputs": []
    },
    {
      "cell_type": "code",
      "source": [
        "#Q2 Complete the following quetion\n",
        "\n",
        "#a. Extract the integer part of a random array using 5 different method\n",
        "#import numpy as np \n",
        "\n",
        "#from random import randrange\n",
        "#print(randrange(20))\n",
        "\n",
        "import numpy as np\n",
        "from numpy import random \n",
        "samples = 5\n",
        "print(np.random.choice(samples, 20))\n",
        "# generating random samples\n",
        "print(np.random.choice(samples, size=10))\n",
        " \n",
        "# generating random samples without replacement\n",
        "print(np.random.choice(samples, size=5, replace=False))\n",
        " \n",
        "# generating random samples with probabilities\n",
        "print(np.random.choice(samples, size=5, replace=True))\n",
        " \n",
        "# generating with probabilities\n",
        "print(np.random.choice(samples, size=15,\n",
        "                       replace=True, p=[0.2, 0.1, 0.1, 0.3, 0.3]))"
      ],
      "metadata": {
        "colab": {
          "base_uri": "https://localhost:8080/"
        },
        "id": "68nm196aTvXT",
        "outputId": "fc5bf655-483e-4110-dfdd-6d70db0f1277"
      },
      "execution_count": 25,
      "outputs": [
        {
          "output_type": "stream",
          "name": "stdout",
          "text": [
            "[4 1 3 4 3 1 2 3 2 0 1 0 2 3 1 0 3 1 0 0]\n",
            "[4 0 2 0 2 2 2 3 4 2]\n",
            "[0 1 3 2 4]\n",
            "[1 2 0 0 4]\n",
            "[4 4 3 3 4 4 0 2 4 4 2 3 3 4 3]\n"
          ]
        }
      ]
    },
    {
      "cell_type": "code",
      "source": [
        "#b. Create a 5x5 matrix with row values ranging from 0 to 4\n",
        "\n",
        "import numpy as np\n",
        "x = np.zeros((5,5))\n",
        "print(\"Original array:\")\n",
        "print(x)\n",
        "print(\"Row values ranging from 0 to 4.\")\n",
        "x += np.arange(5)\n",
        "print(x)\n"
      ],
      "metadata": {
        "colab": {
          "base_uri": "https://localhost:8080/"
        },
        "id": "4L8SjIEwIXMr",
        "outputId": "8c072e2b-4539-45cf-c093-63b2df8c5eb6"
      },
      "execution_count": null,
      "outputs": [
        {
          "output_type": "stream",
          "name": "stdout",
          "text": [
            "Original array:\n",
            "[[0. 0. 0. 0. 0.]\n",
            " [0. 0. 0. 0. 0.]\n",
            " [0. 0. 0. 0. 0.]\n",
            " [0. 0. 0. 0. 0.]\n",
            " [0. 0. 0. 0. 0.]]\n",
            "Row values ranging from 0 to 4.\n",
            "[[0. 1. 2. 3. 4.]\n",
            " [0. 1. 2. 3. 4.]\n",
            " [0. 1. 2. 3. 4.]\n",
            " [0. 1. 2. 3. 4.]\n",
            " [0. 1. 2. 3. 4.]]\n"
          ]
        }
      ]
    },
    {
      "cell_type": "code",
      "source": [
        "#c. Create a random vector of size 10 and sort it\n",
        "\n",
        "import numpy as np\n",
        "x = np.random.random(10)\n",
        "print(\"Original array:\")\n",
        "print(x)\n",
        "x.sort()\n",
        "print(\"Sorted array:\")\n",
        "print(x)"
      ],
      "metadata": {
        "colab": {
          "base_uri": "https://localhost:8080/"
        },
        "id": "qielHZPyIymH",
        "outputId": "1a0c1656-d4b4-454c-c580-721ec058db28"
      },
      "execution_count": null,
      "outputs": [
        {
          "output_type": "stream",
          "name": "stdout",
          "text": [
            "Original array:\n",
            "[0.07714911 0.68109426 0.71705957 0.22592907 0.32609287 0.61304095\n",
            " 0.25774492 0.21492699 0.49702368 0.48302052]\n",
            "Sorted array:\n",
            "[0.07714911 0.21492699 0.22592907 0.25774492 0.32609287 0.48302052\n",
            " 0.49702368 0.61304095 0.68109426 0.71705957]\n"
          ]
        }
      ]
    },
    {
      "cell_type": "code",
      "source": [
        "#d. How to sum a small array faster than np.sum?\n",
        "\n",
        "import numpy as np\n",
        "Z = np.arange(10)\n",
        "np.add.reduce(Z)"
      ],
      "metadata": {
        "id": "3HME3fBGI-Sz",
        "colab": {
          "base_uri": "https://localhost:8080/"
        },
        "outputId": "4eec555e-b6ea-4ad0-d38d-ec315abd4a16"
      },
      "execution_count": 2,
      "outputs": [
        {
          "output_type": "execute_result",
          "data": {
            "text/plain": [
              "45"
            ]
          },
          "metadata": {},
          "execution_count": 2
        }
      ]
    },
    {
      "cell_type": "code",
      "source": [
        "#e. Consider two random array A and B, check if they are equal \n",
        "\n",
        "import numpy as np\n",
        "x = np.random.randint(0,2,6)\n",
        "print(\"First array:\")\n",
        "print(x)\n",
        "y = np.random.randint(0,2,6)\n",
        "print(\"Second array:\")\n",
        "print(y)\n",
        "print(\"Test above two arrays are equal or not!\")\n",
        "array_equal = np.allclose(x, y)\n",
        "print(array_equal)"
      ],
      "metadata": {
        "colab": {
          "base_uri": "https://localhost:8080/"
        },
        "id": "YZWC6YpDJ6Nd",
        "outputId": "b3af3273-473c-4fef-9e44-89f43ab8ed4c"
      },
      "execution_count": null,
      "outputs": [
        {
          "output_type": "stream",
          "name": "stdout",
          "text": [
            "First array:\n",
            "[0 1 0 1 1 1]\n",
            "Second array:\n",
            "[1 0 1 0 1 1]\n",
            "Test above two arrays are equal or not!\n",
            "False\n"
          ]
        }
      ]
    },
    {
      "cell_type": "code",
      "source": [
        "#f. Consider a random 10x2 matrix representing cartesian coordinates, convert them to polar coordinates \n",
        "\n",
        "import numpy as np\n",
        "z= np.random.random((10,2))\n",
        "x,y = z[:,0], z[:,1]\n",
        "r = np.sqrt(x**2+y**2)\n",
        "t = np.arctan2(y,x)\n",
        "print(r)\n",
        "print(t)"
      ],
      "metadata": {
        "colab": {
          "base_uri": "https://localhost:8080/"
        },
        "id": "ONdzL4k5KEkh",
        "outputId": "2646b6a0-6c2b-4442-f40f-ec6d591c06b9"
      },
      "execution_count": null,
      "outputs": [
        {
          "output_type": "stream",
          "name": "stdout",
          "text": [
            "[0.89436078 1.31504825 1.10032144 1.14362667 0.64651404 0.17245451\n",
            " 0.95751996 0.79000925 1.16926692 1.36808691]\n",
            "[0.59626272 0.83573652 0.83478254 0.54464474 0.0559819  1.17440317\n",
            " 0.94418561 0.79339941 0.58648247 0.79025905]\n"
          ]
        }
      ]
    },
    {
      "cell_type": "code",
      "source": [
        "#g. Subtract the mean of each row of a matrix \n",
        "\n",
        "import numpy as np\n",
        "print(\"Original matrix:\\n\")\n",
        "X = np.random.rand(5, 10)\n",
        "print(X)\n",
        "print(\"\\nSubtract the mean of each row of the said matrix:\\n\")\n",
        "Y = X - X.mean(axis=1, keepdims=True)\n",
        "print(Y)\n"
      ],
      "metadata": {
        "colab": {
          "base_uri": "https://localhost:8080/"
        },
        "id": "deSBv68MKX5O",
        "outputId": "3f0a7b0d-df3f-4e95-9291-95396d43e27e"
      },
      "execution_count": null,
      "outputs": [
        {
          "output_type": "stream",
          "name": "stdout",
          "text": [
            "Original matrix:\n",
            "\n",
            "[[0.93368084 0.31869788 0.73133609 0.92260896 0.31355519 0.62380651\n",
            "  0.80805698 0.46584593 0.56135868 0.92174073]\n",
            " [0.72683045 0.23824028 0.1932632  0.04589836 0.03893461 0.70765427\n",
            "  0.50617966 0.04746821 0.61611201 0.11812091]\n",
            " [0.64392797 0.01327435 0.88826146 0.6640474  0.700332   0.62362203\n",
            "  0.57903481 0.33298956 0.75857178 0.12974676]\n",
            " [0.55086438 0.27083163 0.95147852 0.44653514 0.72171629 0.13939696\n",
            "  0.81687202 0.92899127 0.52511186 0.16048103]\n",
            " [0.89960969 0.97556918 0.57776335 0.71585676 0.6142077  0.45345517\n",
            "  0.31102999 0.72413416 0.71273527 0.91740753]]\n",
            "\n",
            "Subtract the mean of each row of the said matrix:\n",
            "\n",
            "[[ 2.73612063e-01 -3.41370896e-01  7.12673064e-02  2.62540181e-01\n",
            "  -3.46513584e-01 -3.62622738e-02  1.47988199e-01 -1.94222850e-01\n",
            "  -9.87100993e-02  2.61671953e-01]\n",
            " [ 4.02960257e-01 -8.56299187e-02 -1.30606999e-01 -2.77971835e-01\n",
            "  -2.84935582e-01  3.83784071e-01  1.82309460e-01 -2.76401984e-01\n",
            "   2.92241816e-01 -2.05749286e-01]\n",
            " [ 1.10547155e-01 -5.20106461e-01  3.54880645e-01  1.30666590e-01\n",
            "   1.66951187e-01  9.02412215e-02  4.56540032e-02 -2.00391256e-01\n",
            "   2.25190969e-01 -4.03634055e-01]\n",
            " [-3.63530636e-04 -2.80396280e-01  4.00250608e-01 -1.04692765e-01\n",
            "   1.70488379e-01 -4.11830952e-01  2.65644113e-01  3.77763361e-01\n",
            "  -2.61160527e-02 -3.90746881e-01]\n",
            " [ 2.09432812e-01  2.85392302e-01 -1.12413531e-01  2.56798778e-02\n",
            "  -7.59691825e-02 -2.36721712e-01 -3.79146887e-01  3.39572807e-02\n",
            "   2.25583862e-02  2.27230654e-01]]\n"
          ]
        }
      ]
    }
  ]
}