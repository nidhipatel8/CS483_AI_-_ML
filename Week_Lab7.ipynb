{
  "nbformat": 4,
  "nbformat_minor": 0,
  "metadata": {
    "colab": {
      "name": "Week_Lab7.ipynb",
      "provenance": [],
      "authorship_tag": "ABX9TyPJb6bbymk1ru+7e9UpMu1G",
      "include_colab_link": true
    },
    "kernelspec": {
      "name": "python3",
      "display_name": "Python 3"
    },
    "language_info": {
      "name": "python"
    }
  },
  "cells": [
    {
      "cell_type": "markdown",
      "metadata": {
        "id": "view-in-github",
        "colab_type": "text"
      },
      "source": [
        "<a href=\"https://colab.research.google.com/github/nidhipatel8/CS483_AI_-_ML/blob/main/Week_Lab7.ipynb\" target=\"_parent\"><img src=\"https://colab.research.google.com/assets/colab-badge.svg\" alt=\"Open In Colab\"/></a>"
      ]
    },
    {
      "cell_type": "code",
      "execution_count": null,
      "metadata": {
        "colab": {
          "base_uri": "https://localhost:8080/",
          "height": 133
        },
        "id": "W9-kQIzl3roo",
        "outputId": "a4e7d5c0-b315-44ae-dc93-2bc60bca832a"
      },
      "outputs": [
        {
          "output_type": "error",
          "ename": "SyntaxError",
          "evalue": "ignored",
          "traceback": [
            "\u001b[0;36m  File \u001b[0;32m\"<ipython-input-1-62b455e9d5e2>\"\u001b[0;36m, line \u001b[0;32m8\u001b[0m\n\u001b[0;31m    dogs_dict = { 'Ozzy': 3, 'Filou': 8, 'Luna': 5, 'Skippy': 10, 'Barco': 12, 'Balou': 9, '\u001b[0m\n\u001b[0m                                                                                            ^\u001b[0m\n\u001b[0;31mSyntaxError\u001b[0m\u001b[0;31m:\u001b[0m EOL while scanning string literal\n"
          ]
        }
      ],
      "source": [
        "#1.Pickle\n",
        "from google.colab import drive\n",
        "drive.mount('/content/drive')         \n",
        "# mount '/content/drive' to virtual machine directory for google colab user\n",
        "#below where the file is in gdrive, change with your\n",
        "data_path = \"/content/drive/My Drive/Colab Notebooks/\"\n",
        "import pickle\n",
        "dogs_dict = { 'Ozzy': 3, 'Filou': 8, 'Luna': 5, 'Skippy': 10, 'Barco': 12, 'Balou': 9, '\n",
        "Laika': 16 }\n",
        "filename = 'dogs'\n",
        "outfile = open(data_path+filename,'wb')         # b: binary\n",
        "pickle.dump(dogs_dict,outfile)                  \n",
        "outfile.close()                              # File \"dogs\" will be created in your google drive\n",
        "infile = open(data_path+filename,'rb')\n",
        "new_dict = pickle.load(infile)\n",
        "infile.close()\n",
        "print(new_dict)\n",
        "print(new_dict==dogs_dict)\n",
        "print(type(new_dict))\n",
        "import bz2                                      # Compressing pickle files\n",
        "sfile = bz2.BZ2File(data_path+'smallerfile', 'w')\n",
        "pickle.dump(dogs_dict, sfile) # zipped file \"smallerfile\" will be in your google drive\n",
        "infile = open(data_path+filename,'rb')\n",
        "new_dict = pickle.load(infile, encoding='latin1')"
      ]
    },
    {
      "cell_type": "code",
      "source": [
        "#2.Get dataset from website\n",
        "#!pip install quandl\n",
        "import quandl \n",
        "import pandas as pd\n",
        "# Access to https://www.quandl.com/ \n",
        "# Create account and then you will get your own api key \n",
        "# DON'T USE MY API KEY \n",
        "api_key = '512wmNEnHco4U5xxKQ5X'\n",
        "df = quandl.get(\"FMAC/HPI_TX\", authtoken=api_key)\n",
        "print(df.head())\n",
        "fiddy_states = pd.read_html('https://simple.wikipedia.org/wiki/List_of_U.S._states\n",
        "')\n",
        "print(fiddy_states)\n",
        "print(fiddy_states[0])"
      ],
      "metadata": {
        "colab": {
          "base_uri": "https://localhost:8080/",
          "height": 133
        },
        "id": "Q9TIfmSI4_tH",
        "outputId": "eca8537f-d3ad-4dd2-8d74-1fbf5f0e9715"
      },
      "execution_count": null,
      "outputs": [
        {
          "output_type": "error",
          "ename": "SyntaxError",
          "evalue": "ignored",
          "traceback": [
            "\u001b[0;36m  File \u001b[0;32m\"<ipython-input-2-1f9b1d0146e1>\"\u001b[0;36m, line \u001b[0;32m11\u001b[0m\n\u001b[0;31m    fiddy_states = pd.read_html('https://simple.wikipedia.org/wiki/List_of_U.S._states\u001b[0m\n\u001b[0m                                                                                      ^\u001b[0m\n\u001b[0;31mSyntaxError\u001b[0m\u001b[0;31m:\u001b[0m EOL while scanning string literal\n"
          ]
        }
      ]
    },
    {
      "cell_type": "code",
      "source": [
        "#2. Search a file “nyc_weather.csv” & “weather_data.csv” from website, \n",
        "#and download to your google drive. Write python program to read-in \n",
        "#them & display dataset by Pandas\n",
        "\n"
      ],
      "metadata": {
        "id": "RFzmjydf5jtd"
      },
      "execution_count": null,
      "outputs": []
    }
  ]
}