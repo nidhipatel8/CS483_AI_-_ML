{
  "nbformat": 4,
  "nbformat_minor": 0,
  "metadata": {
    "colab": {
      "name": "Quiz1.ipynb",
      "provenance": [],
      "collapsed_sections": [],
      "authorship_tag": "ABX9TyObE2P5Ndtcc3yV5xhqNoAd",
      "include_colab_link": true
    },
    "kernelspec": {
      "name": "python3",
      "display_name": "Python 3"
    },
    "language_info": {
      "name": "python"
    }
  },
  "cells": [
    {
      "cell_type": "markdown",
      "metadata": {
        "id": "view-in-github",
        "colab_type": "text"
      },
      "source": [
        "<a href=\"https://colab.research.google.com/github/nidhipatel8/CS483_AI_-_ML/blob/main/Quiz1.ipynb\" target=\"_parent\"><img src=\"https://colab.research.google.com/assets/colab-badge.svg\" alt=\"Open In Colab\"/></a>"
      ]
    },
    {
      "cell_type": "code",
      "execution_count": 5,
      "metadata": {
        "colab": {
          "base_uri": "https://localhost:8080/"
        },
        "id": "OtMxlTgJN8mB",
        "outputId": "026c89ff-8307-479b-94fe-f5dd353fe8f5"
      },
      "outputs": [
        {
          "output_type": "stream",
          "name": "stdout",
          "text": [
            "      ID    Name   GPA\n",
            "0  12345    John  3.50\n",
            "1  12346    Mike  3.45\n",
            "2  12347     Jim  3.45\n",
            "3  12348   Peter  3.12\n",
            "4  12349    Jack  2.65\n",
            "5  12349  Andrew  3.01\n",
            "6  12351    Adam  3.70\n",
            "7  12352    Jeff  2.89\n",
            "8  12353   David  3.34\n",
            "9  12354   David  3.82\n"
          ]
        }
      ],
      "source": [
        " #1. Create a dataframe as follows by Pandas functions\n",
        " #import pandas as pd\n",
        "import pandas as pd\n",
        " \n",
        "# Calling DataFrame constructor\n",
        "df = pd.DataFrame()\n",
        "\n",
        "# dictionary of lists\n",
        "dict = {'ID':[\"12345\", \"12346\", \"12347\", \"12348\", \"12349\", \"12349\", \"12351\", \"12352\", \"12353\", \"12354\"],\n",
        "        'Name': [\"John\", \"Mike\", \"Jim\", \"Peter\", \"Jack\", \"Andrew\", \"Adam\", \"Jeff\", \"David\", \"David\"],\n",
        "        'GPA':[3.5, 3.45, 3.45, 3.12, 2.65, 3.01, 3.70, 2.89, 3.34, 3.82]}\n",
        "df = pd.DataFrame(dict)\n",
        "\n",
        "print(df)"
      ]
    },
    {
      "cell_type": "code",
      "source": [
        "#2. Based on above dataframe, change record index to GPA\n",
        "\n",
        "\n",
        "#import pandas as pd\n",
        "import pandas as pd\n",
        "import numpy as np\n",
        "import random\n",
        " \n",
        "# Calling DataFrame constructor\n",
        "df = pd.DataFrame()\n",
        "\n",
        "# dictionary of lists\n",
        "dict = ({'ID':[\"12345\", \"12346\", \"12347\", \"12348\", \"12349\", \"12349\", \"12351\", \"12352\", \"12353\", \"12354\"],\n",
        "        'Name': [\"John\", \"Mike\", \"Jim\", \"Peter\", \"Jack\", \"Andrew\", \"Adam\", \"Jeff\", \"David\", \"David\"]},\n",
        "        df_dict.index[3.5, 3.45, 3.45, 3.12, 2.65, 3.01, 3.70, 2.89, 3.34, 3.82])\n",
        "df = pd.DataFrame(dict)\n",
        "\n",
        "print(df)"
      ],
      "metadata": {
        "colab": {
          "base_uri": "https://localhost:8080/",
          "height": 240
        },
        "id": "qFKu5e1eRQoB",
        "outputId": "5cd3d5f7-1403-4d8e-aa9e-09315aaacf0c"
      },
      "execution_count": 24,
      "outputs": [
        {
          "output_type": "error",
          "ename": "NameError",
          "evalue": "ignored",
          "traceback": [
            "\u001b[0;31m---------------------------------------------------------------------------\u001b[0m",
            "\u001b[0;31mNameError\u001b[0m                                 Traceback (most recent call last)",
            "\u001b[0;32m<ipython-input-24-46a2eb21cd5b>\u001b[0m in \u001b[0;36m<module>\u001b[0;34m()\u001b[0m\n\u001b[1;32m     13\u001b[0m dict = ({'ID':[\"12345\", \"12346\", \"12347\", \"12348\", \"12349\", \"12349\", \"12351\", \"12352\", \"12353\", \"12354\"],\n\u001b[1;32m     14\u001b[0m         'Name': [\"John\", \"Mike\", \"Jim\", \"Peter\", \"Jack\", \"Andrew\", \"Adam\", \"Jeff\", \"David\", \"David\"]},\n\u001b[0;32m---> 15\u001b[0;31m         df_dict.index[3.5, 3.45, 3.45, 3.12, 2.65, 3.01, 3.70, 2.89, 3.34, 3.82])\n\u001b[0m\u001b[1;32m     16\u001b[0m \u001b[0mdf\u001b[0m \u001b[0;34m=\u001b[0m \u001b[0mpd\u001b[0m\u001b[0;34m.\u001b[0m\u001b[0mDataFrame\u001b[0m\u001b[0;34m(\u001b[0m\u001b[0mdict\u001b[0m\u001b[0;34m)\u001b[0m\u001b[0;34m\u001b[0m\u001b[0;34m\u001b[0m\u001b[0m\n\u001b[1;32m     17\u001b[0m \u001b[0;34m\u001b[0m\u001b[0m\n",
            "\u001b[0;31mNameError\u001b[0m: name 'df_dict' is not defined"
          ]
        }
      ]
    },
    {
      "cell_type": "code",
      "source": [
        "#3. Generate time series from 7/1/2020 to 8/1/2020\n",
        "\n",
        "#import pandas as pd\n",
        "import pandas as pd\n",
        "from datetime import datetime\n",
        "import numpy as np\n",
        " \n",
        "# Calling DataFrame constructor\n",
        "df = pd.DataFrame()\n",
        "\n",
        "# dictionary of lists\n",
        "dict = {'ID':[\"12345\", \"12346\", \"12347\", \"12348\", \"12349\", \"12349\", \"12351\", \"12352\", \"12353\", \"12354\"],\n",
        "        'Name': [\"John\", \"Mike\", \"Jim\", \"Peter\", \"Jack\", \"Andrew\", \"Adam\", \"Jeff\", \"David\", \"David\"],\n",
        "        'GPA':[3.5, 3.45, 3.45, 3.12, 2.65, 3.01, 3.70, 2.89, 3.34, 3.82]}\n",
        "df = pd.DataFrame(dict)\n",
        "\n",
        "\n",
        "\n",
        "print(df)"
      ],
      "metadata": {
        "colab": {
          "base_uri": "https://localhost:8080/"
        },
        "id": "lzfvWR2pTEQT",
        "outputId": "51a05c8e-8bc6-41c4-afc6-28c74f7abda3"
      },
      "execution_count": 19,
      "outputs": [
        {
          "output_type": "stream",
          "name": "stdout",
          "text": [
            "      ID    Name   GPA\n",
            "0  12345    John  3.50\n",
            "1  12346    Mike  3.45\n",
            "2  12347     Jim  3.45\n",
            "3  12348   Peter  3.12\n",
            "4  12349    Jack  2.65\n",
            "5  12349  Andrew  3.01\n",
            "6  12351    Adam  3.70\n",
            "7  12352    Jeff  2.89\n",
            "8  12353   David  3.34\n",
            "9  12354   David  3.82\n"
          ]
        }
      ]
    },
    {
      "cell_type": "code",
      "source": [
        "#4. Add one more column for student’s major BSCS or MSCS\n",
        "\n",
        "#import pandas as pd\n",
        "import pandas as pd\n",
        " \n",
        "# Calling DataFrame constructor\n",
        "df = pd.DataFrame()\n",
        "\n",
        "# dictionary of lists\n",
        "dict = {'ID':[\"12345\", \"12346\", \"12347\", \"12348\", \"12349\", \"12349\", \"12351\", \"12352\", \"12353\", \"12354\"],\n",
        "        'Name': [\"John\", \"Mike\", \"Jim\", \"Peter\", \"Jack\", \"Andrew\", \"Adam\", \"Jeff\", \"David\", \"David\"],\n",
        "        'GPA':[3.5, 3.45, 3.45, 3.12, 2.65, 3.01, 3.70, 2.89, 3.34, 3.82]}\n",
        "df = pd.DataFrame(dict)\n",
        "\n",
        " #Using 'Major' as the column name and equating it to the list\n",
        "df2 = df.assign(Magor=['BSCS', 'MSCS', 'BSCS', 'BSCS', 'MSCS', 'BSCS', 'MSCS', 'MSCS', 'BSCS', 'MSCS'])\n",
        "\n",
        "print(df2)"
      ],
      "metadata": {
        "colab": {
          "base_uri": "https://localhost:8080/"
        },
        "id": "tNV53rZ3TFbc",
        "outputId": "f4269f18-140a-4be9-8bcf-0683b1b1d5ee"
      },
      "execution_count": 7,
      "outputs": [
        {
          "output_type": "stream",
          "name": "stdout",
          "text": [
            "      ID    Name   GPA Magor\n",
            "0  12345    John  3.50  BSCS\n",
            "1  12346    Mike  3.45  MSCS\n",
            "2  12347     Jim  3.45  BSCS\n",
            "3  12348   Peter  3.12  BSCS\n",
            "4  12349    Jack  2.65  MSCS\n",
            "5  12349  Andrew  3.01  BSCS\n",
            "6  12351    Adam  3.70  MSCS\n",
            "7  12352    Jeff  2.89  MSCS\n",
            "8  12353   David  3.34  BSCS\n",
            "9  12354   David  3.82  MSCS\n"
          ]
        }
      ]
    }
  ]
}