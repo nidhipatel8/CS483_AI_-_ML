{
  "nbformat": 4,
  "nbformat_minor": 0,
  "metadata": {
    "colab": {
      "name": "Final_Exam_Lab.ipynb",
      "provenance": [],
      "authorship_tag": "ABX9TyMNx5PI/wuyFYvo7Nck3NKe",
      "include_colab_link": true
    },
    "kernelspec": {
      "name": "python3",
      "display_name": "Python 3"
    },
    "language_info": {
      "name": "python"
    }
  },
  "cells": [
    {
      "cell_type": "markdown",
      "metadata": {
        "id": "view-in-github",
        "colab_type": "text"
      },
      "source": [
        "<a href=\"https://colab.research.google.com/github/nidhipatel8/CS483_AI_-_ML/blob/main/Final_Exam_Lab.ipynb\" target=\"_parent\"><img src=\"https://colab.research.google.com/assets/colab-badge.svg\" alt=\"Open In Colab\"/></a>"
      ]
    },
    {
      "cell_type": "code",
      "execution_count": 13,
      "metadata": {
        "colab": {
          "base_uri": "https://localhost:8080/"
        },
        "id": "3mZaWxa_kkoq",
        "outputId": "df36ebc4-5db9-4254-a231-1bb75c85e2eb"
      },
      "outputs": [
        {
          "output_type": "execute_result",
          "data": {
            "text/plain": [
              "array([[0.        , 0.06666667, 0.13333333, 0.2       , 0.26666667,\n",
              "        0.33333333, 0.4       , 0.46666667, 0.53333333, 0.6       ,\n",
              "        0.66666667, 0.73333333, 0.8       , 0.86666667, 0.93333333,\n",
              "        1.        ]])"
            ]
          },
          "metadata": {},
          "execution_count": 13
        }
      ],
      "source": [
        "#Part I Complete the following questions in python programs by the functions in Scikit \n",
        "#Learn\n",
        "\n",
        "#Q1\n",
        "\n",
        "import numpy as np \n",
        "\n",
        "#create NumPy array\n",
        "data = np.array([[1,2,3,4,5,6,7,8,9,10,11,12,13,14,15,16]])\n",
        "\n",
        "#normalize all values in array\n",
        "data_norm = (data - data.min())/ (data.max() - data.min())\n",
        "\n",
        "#view normalized values\n",
        "data_norm"
      ]
    },
    {
      "cell_type": "code",
      "source": [
        "import numpy as np\n",
        "from sklearn import preprocessing\n",
        "Input_data = np.array([\n",
        "   [1.1, 2.2, 3.3],\n",
        "   [4.4, 5.5, 6.6],\n",
        "   [7.7, 8.8, 9.9]]\n",
        ")\n",
        "data_binarized = preprocessing.Binarizer(threshold=0.5).transform(input_data)\n",
        "print(\"\\nBinarized data:\\n\", data_binarized)"
      ],
      "metadata": {
        "colab": {
          "base_uri": "https://localhost:8080/",
          "height": 222
        },
        "id": "AkdTD47zyxTX",
        "outputId": "b6a87316-c2a3-41c7-f551-3ce2921940fc"
      },
      "execution_count": 28,
      "outputs": [
        {
          "output_type": "error",
          "ename": "NameError",
          "evalue": "ignored",
          "traceback": [
            "\u001b[0;31m---------------------------------------------------------------------------\u001b[0m",
            "\u001b[0;31mNameError\u001b[0m                                 Traceback (most recent call last)",
            "\u001b[0;32m<ipython-input-28-90587aaf6ba7>\u001b[0m in \u001b[0;36m<module>\u001b[0;34m\u001b[0m\n\u001b[1;32m      8\u001b[0m    [7.7, 8.8, 9.9]]\n\u001b[1;32m      9\u001b[0m )\n\u001b[0;32m---> 10\u001b[0;31m \u001b[0mdata_binarized\u001b[0m \u001b[0;34m=\u001b[0m \u001b[0mpreprocessing\u001b[0m\u001b[0;34m.\u001b[0m\u001b[0mBinarizer\u001b[0m\u001b[0;34m(\u001b[0m\u001b[0mthreshold\u001b[0m\u001b[0;34m=\u001b[0m\u001b[0;36m0.5\u001b[0m\u001b[0;34m)\u001b[0m\u001b[0;34m.\u001b[0m\u001b[0mtransform\u001b[0m\u001b[0;34m(\u001b[0m\u001b[0minput_data\u001b[0m\u001b[0;34m)\u001b[0m\u001b[0;34m\u001b[0m\u001b[0;34m\u001b[0m\u001b[0m\n\u001b[0m\u001b[1;32m     11\u001b[0m \u001b[0mprint\u001b[0m\u001b[0;34m(\u001b[0m\u001b[0;34m\"\\nBinarized data:\\n\"\u001b[0m\u001b[0;34m,\u001b[0m \u001b[0mdata_binarized\u001b[0m\u001b[0;34m)\u001b[0m\u001b[0;34m\u001b[0m\u001b[0;34m\u001b[0m\u001b[0m\n",
            "\u001b[0;31mNameError\u001b[0m: name 'input_data' is not defined"
          ]
        }
      ]
    },
    {
      "cell_type": "code",
      "source": [
        "#Q3\n",
        "\n",
        "import numpy as np\n",
        "from sklearn.linear_model import LinearRegression\n",
        "\n",
        "x = np.array([[6], [8], [10], [14], [18]]).reshape((-1, 1))\n",
        "y = np.array([[7], [9], [13], [17.5], [18]])\n",
        "\n",
        "model = LinearRegression()\n",
        "\n",
        "model.fit(x, y)\n",
        "\n",
        "model = LinearRegression().fit(x, y)\n",
        "r_sq = model.score(x, y)\n",
        "print(f\"coefficient of determination: {r_sq}\")\n"
      ],
      "metadata": {
        "colab": {
          "base_uri": "https://localhost:8080/"
        },
        "id": "MEMWuWZNxoKr",
        "outputId": "dbbc1725-3a26-49d0-c690-b02b87d3eab4"
      },
      "execution_count": 15,
      "outputs": [
        {
          "output_type": "stream",
          "name": "stdout",
          "text": [
            "coefficient of determination: 0.9100015964240102\n"
          ]
        }
      ]
    },
    {
      "cell_type": "code",
      "source": [
        "#Part II Create user-defined python functions \n",
        "\n",
        "#Q1\n",
        "\n",
        "import numpy as np\n",
        "\n",
        "M1 = np.array([1,2,3])\n",
        "M2 = np.array([4,5,6])\n",
        "M3 = M1.dot(M2)  \n",
        "print(M3)"
      ],
      "metadata": {
        "colab": {
          "base_uri": "https://localhost:8080/"
        },
        "id": "96jrxmMQs9oG",
        "outputId": "e62ffbc5-ac9f-4e7e-9974-9408f2b8c273"
      },
      "execution_count": 14,
      "outputs": [
        {
          "output_type": "stream",
          "name": "stdout",
          "text": [
            "32\n"
          ]
        }
      ]
    },
    {
      "cell_type": "code",
      "source": [
        "#Part II Create user-defined python functions \n",
        "\n",
        "#Q2\n",
        "\n",
        "import numpy as np\n",
        "\n",
        "M1 = np.array([[1,2,3], [4,5,6]])\n",
        "M2 = M1.transpose()\n",
        "\n",
        "print(M2)"
      ],
      "metadata": {
        "colab": {
          "base_uri": "https://localhost:8080/"
        },
        "id": "lhqFLSh9sTwY",
        "outputId": "7c563858-baf3-449c-95bb-b3adc4de6532"
      },
      "execution_count": 11,
      "outputs": [
        {
          "output_type": "stream",
          "name": "stdout",
          "text": [
            "[[1 4]\n",
            " [2 5]\n",
            " [3 6]]\n"
          ]
        }
      ]
    }
  ]
}